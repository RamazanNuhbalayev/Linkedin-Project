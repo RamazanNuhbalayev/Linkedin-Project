{
 "cells": [
  {
   "cell_type": "markdown",
   "metadata": {},
   "source": [
    "<a id=\"11\"></a> <br>\n",
    "# What is the Pandas?:"
   ]
  },
  {
   "cell_type": "markdown",
   "metadata": {},
   "source": [
    "Pandas is an open source library for Python programming language that provides high-performance, easy-to-use data structures and data analysis tools. It is used to open '.csv' and '.txt' files and to easily reach the desired result by reading the data contained in it. In other words, thanks to Pandas, we can open an excel file and select a column or row in it and process it. The process of shaping the data made in the Numpy library can be used in more detail.\n",
    "With Pandas, you can do many things you can think of successfully and with a few lines of code. For example, the data of the image of the first black hole is arranged with pandas. Pandas is also optimized for speed and can operate very quickly.\n",
    "\n",
    "\n",
    "Let's start with import first"
   ]
  },
  {
   "cell_type": "markdown",
   "metadata": {},
   "source": [
    "Pandas Python proqramlaşdırma dili üçün açıq mənbəli kitabxanadır və yüksək performanslı, istifadəsi asan məlumat strukturları və məlumat təhlili alətləri təqdim edir. clipboard, csv, excel, feather, fwf, gbq, hdf, html, json, orc, parquet, pickle, sas, spss, sql, sql_query, sql_table, stata, table, xml fayl sonluqlu faylları açmaq və içindəki məlumatları oxumaqla istənilən nəticəyə asanlıqla çatmaq üçün istifadə olunur. Başqa sözlə desək, Pandas ilə biz excel faylını açıb oradan sütun və ya sətir seçib onlarla işləyə bilirik. Numpy kitabxanasında hazırlanmış dataların formalaşdırılması prosesində Pandas -ı daha müfəssəl formada istifadə edilə bilərik. Pandas ilə siz ağlınıza gələ biləcək bir çox şeyi uğurla və bir neçə sətir kodla edə bilərsiniz. Məsələn, ilk qara dəliyin təsvirinin məlumatları pandalarla düzülüb. Pandalar da sürət üçün optimallaşdırılıb və çox tez işləyə bilir."
   ]
  },
  {
   "cell_type": "code",
   "execution_count": 1,
   "metadata": {},
   "outputs": [],
   "source": [
    "import pandas as pd"
   ]
  },
  {
   "cell_type": "code",
   "execution_count": 2,
   "metadata": {},
   "outputs": [
    {
     "data": {
      "text/plain": [
       "['ArrowDtype',\n",
       " 'BooleanDtype',\n",
       " 'Categorical',\n",
       " 'CategoricalDtype',\n",
       " 'CategoricalIndex',\n",
       " 'DataFrame',\n",
       " 'DateOffset',\n",
       " 'DatetimeIndex',\n",
       " 'DatetimeTZDtype',\n",
       " 'ExcelFile',\n",
       " 'ExcelWriter',\n",
       " 'Flags',\n",
       " 'Float32Dtype',\n",
       " 'Float64Dtype',\n",
       " 'Float64Index',\n",
       " 'Grouper',\n",
       " 'HDFStore',\n",
       " 'Index',\n",
       " 'IndexSlice',\n",
       " 'Int16Dtype',\n",
       " 'Int32Dtype',\n",
       " 'Int64Dtype',\n",
       " 'Int64Index',\n",
       " 'Int8Dtype',\n",
       " 'Interval',\n",
       " 'IntervalDtype',\n",
       " 'IntervalIndex',\n",
       " 'MultiIndex',\n",
       " 'NA',\n",
       " 'NaT',\n",
       " 'NamedAgg',\n",
       " 'Period',\n",
       " 'PeriodDtype',\n",
       " 'PeriodIndex',\n",
       " 'RangeIndex',\n",
       " 'Series',\n",
       " 'SparseDtype',\n",
       " 'StringDtype',\n",
       " 'Timedelta',\n",
       " 'TimedeltaIndex',\n",
       " 'Timestamp',\n",
       " 'UInt16Dtype',\n",
       " 'UInt32Dtype',\n",
       " 'UInt64Dtype',\n",
       " 'UInt64Index',\n",
       " 'UInt8Dtype',\n",
       " '__all__',\n",
       " '__builtins__',\n",
       " '__cached__',\n",
       " '__deprecated_num_index_names',\n",
       " '__dir__',\n",
       " '__doc__',\n",
       " '__docformat__',\n",
       " '__file__',\n",
       " '__getattr__',\n",
       " '__git_version__',\n",
       " '__loader__',\n",
       " '__name__',\n",
       " '__package__',\n",
       " '__path__',\n",
       " '__spec__',\n",
       " '__version__',\n",
       " '_config',\n",
       " '_is_numpy_dev',\n",
       " '_libs',\n",
       " '_testing',\n",
       " '_typing',\n",
       " '_version',\n",
       " 'annotations',\n",
       " 'api',\n",
       " 'array',\n",
       " 'arrays',\n",
       " 'bdate_range',\n",
       " 'compat',\n",
       " 'concat',\n",
       " 'core',\n",
       " 'crosstab',\n",
       " 'cut',\n",
       " 'date_range',\n",
       " 'describe_option',\n",
       " 'errors',\n",
       " 'eval',\n",
       " 'factorize',\n",
       " 'from_dummies',\n",
       " 'get_dummies',\n",
       " 'get_option',\n",
       " 'infer_freq',\n",
       " 'interval_range',\n",
       " 'io',\n",
       " 'isna',\n",
       " 'isnull',\n",
       " 'json_normalize',\n",
       " 'lreshape',\n",
       " 'melt',\n",
       " 'merge',\n",
       " 'merge_asof',\n",
       " 'merge_ordered',\n",
       " 'notna',\n",
       " 'notnull',\n",
       " 'offsets',\n",
       " 'option_context',\n",
       " 'options',\n",
       " 'pandas',\n",
       " 'period_range',\n",
       " 'pivot',\n",
       " 'pivot_table',\n",
       " 'plotting',\n",
       " 'qcut',\n",
       " 'read_clipboard',\n",
       " 'read_csv',\n",
       " 'read_excel',\n",
       " 'read_feather',\n",
       " 'read_fwf',\n",
       " 'read_gbq',\n",
       " 'read_hdf',\n",
       " 'read_html',\n",
       " 'read_json',\n",
       " 'read_orc',\n",
       " 'read_parquet',\n",
       " 'read_pickle',\n",
       " 'read_sas',\n",
       " 'read_spss',\n",
       " 'read_sql',\n",
       " 'read_sql_query',\n",
       " 'read_sql_table',\n",
       " 'read_stata',\n",
       " 'read_table',\n",
       " 'read_xml',\n",
       " 'reset_option',\n",
       " 'set_eng_float_format',\n",
       " 'set_option',\n",
       " 'show_versions',\n",
       " 'test',\n",
       " 'testing',\n",
       " 'timedelta_range',\n",
       " 'to_datetime',\n",
       " 'to_numeric',\n",
       " 'to_pickle',\n",
       " 'to_timedelta',\n",
       " 'tseries',\n",
       " 'unique',\n",
       " 'util',\n",
       " 'value_counts',\n",
       " 'wide_to_long']"
      ]
     },
     "execution_count": 2,
     "metadata": {},
     "output_type": "execute_result"
    }
   ],
   "source": [
    "dir(pd)"
   ]
  },
  {
   "cell_type": "code",
   "execution_count": 4,
   "metadata": {},
   "outputs": [
    {
     "name": "stdout",
     "output_type": "stream",
     "text": [
      "clipboard, csv, excel, feather, fwf, gbq, hdf, html, json, orc, parquet, pickle, sas, spss, sql, sql_query, sql_table, stata, table, xml, "
     ]
    }
   ],
   "source": [
    "h=['read_clipboard',\n",
    " 'read_csv',\n",
    " 'read_excel',\n",
    " 'read_feather',\n",
    " 'read_fwf',\n",
    " 'read_gbq',\n",
    " 'read_hdf',\n",
    " 'read_html',\n",
    " 'read_json',\n",
    " 'read_orc',\n",
    " 'read_parquet',\n",
    " 'read_pickle',\n",
    " 'read_sas',\n",
    " 'read_spss',\n",
    " 'read_sql',\n",
    " 'read_sql_query',\n",
    " 'read_sql_table',\n",
    " 'read_stata',\n",
    " 'read_table',\n",
    " 'read_xml']\n",
    "k=[d.replace(\"read_\",\"\") for d in h]\n",
    "for m in k:\n",
    "    print(m,end=\", \")"
   ]
  },
  {
   "cell_type": "markdown",
   "metadata": {},
   "source": [
    "<a id=\"12\"></a> <br>\n",
    "# Pandas Series:"
   ]
  },
  {
   "cell_type": "markdown",
   "metadata": {},
   "source": [
    "The series are very similar to them since they are created based on the Numpy sequences. The series is a one-dimensional data structure consisting of tagged data. Label values ​​are called index. The data itself can consist of numbers, strings, or other Python objects. Lists, sequences or dictionaries can be used to create the series. Pandas Series take the following variables."
   ]
  },
  {
   "cell_type": "markdown",
   "metadata": {},
   "source": [
    "\n",
    "Pandas series has 4 parameters.\n",
    "These are data, index, dtype, copy\n",
    "you may not know dtype and copy of these\n",
    "dtype is for data type. if None, data type will be inferred\n",
    "Copy is Cpoy data :D\n",
    "Copy is important. If you are going to make changes to the data, make a copy. You don't want to change the actual data\n",
    "\n",
    "\n",
    "\n",
    "Here, too, you see the answer to the question \"How to create a series?\""
   ]
  },
  {
   "cell_type": "code",
   "execution_count": 43,
   "metadata": {},
   "outputs": [
    {
     "data": {
      "text/plain": [
       "I           1\n",
       "am          2\n",
       "Learning    3\n",
       "Data        4\n",
       "Science     5\n",
       "dtype: int64"
      ]
     },
     "execution_count": 43,
     "metadata": {},
     "output_type": "execute_result"
    }
   ],
   "source": [
    "Label_list = ['I','am','Learning','Data','Science']\n",
    "Data_List = [1,2,3,4,5]\n",
    "Pd_Series1 = pd.Series(Data_List,Label_list)\n",
    "Pd_Series1"
   ]
  },
  {
   "cell_type": "markdown",
   "metadata": {},
   "source": [
    "You can do this shorter like this"
   ]
  },
  {
   "cell_type": "code",
   "execution_count": 44,
   "metadata": {},
   "outputs": [
    {
     "data": {
      "text/plain": [
       "100    a\n",
       "101    b\n",
       "102    c\n",
       "103    d\n",
       "dtype: object"
      ]
     },
     "execution_count": 44,
     "metadata": {},
     "output_type": "execute_result"
    }
   ],
   "source": [
    "data = np.array(['a','b','c','d'])\n",
    "Series = pd.Series(data,[100,101,102,103])\n",
    "Series"
   ]
  },
  {
   "cell_type": "markdown",
   "metadata": {},
   "source": [
    "Let's create 3 Series and apply some processing on these series."
   ]
  },
  {
   "cell_type": "code",
   "execution_count": 45,
   "metadata": {},
   "outputs": [],
   "source": [
    "DataDict = {'Michael_s exam result': 35, 'Olivia_s exam result': 85}\n",
    "A = pd.Series(DataDict)\n",
    "DataDict2 = {'Michael_s exam result': 44}\n",
    "B = pd.Series(DataDict2)\n",
    "DataDict3 = {'Darth_Vader_s exam result' :99}\n",
    "C = pd.Series(DataDict3)"
   ]
  },
  {
   "cell_type": "code",
   "execution_count": 46,
   "metadata": {},
   "outputs": [
    {
     "data": {
      "text/plain": [
       "Michael_s exam result    35\n",
       "Olivia_s exam result     85\n",
       "dtype: int64"
      ]
     },
     "execution_count": 46,
     "metadata": {},
     "output_type": "execute_result"
    }
   ],
   "source": [
    "A"
   ]
  },
  {
   "cell_type": "code",
   "execution_count": 47,
   "metadata": {},
   "outputs": [
    {
     "data": {
      "text/plain": [
       "Michael_s exam result    44\n",
       "dtype: int64"
      ]
     },
     "execution_count": 47,
     "metadata": {},
     "output_type": "execute_result"
    }
   ],
   "source": [
    "B"
   ]
  },
  {
   "cell_type": "code",
   "execution_count": 48,
   "metadata": {},
   "outputs": [
    {
     "data": {
      "text/plain": [
       "Darth_Vader_s exam result    99\n",
       "dtype: int64"
      ]
     },
     "execution_count": 48,
     "metadata": {},
     "output_type": "execute_result"
    }
   ],
   "source": [
    "C"
   ]
  },
  {
   "cell_type": "markdown",
   "metadata": {},
   "source": [
    "\n",
    "As you can see, we created 3 series. In some transactions we can use queue."
   ]
  },
  {
   "cell_type": "code",
   "execution_count": 49,
   "metadata": {},
   "outputs": [
    {
     "data": {
      "text/plain": [
       "Michael_s exam result    79.0\n",
       "Olivia_s exam result      NaN\n",
       "dtype: float64"
      ]
     },
     "execution_count": 49,
     "metadata": {},
     "output_type": "execute_result"
    }
   ],
   "source": [
    "A + B"
   ]
  },
  {
   "cell_type": "markdown",
   "metadata": {},
   "source": [
    "\n",
    "The first of these situations: four operations and more can be done between the two series. However, there is one thing you should be aware of: While the values ​​of 'Michael' and 'Olivia' are included in the 'A' value, only 'Michael' has the examination result of 'B' value. When we process the two values, only matching values ​​are processed. If there is a value that does not match (the 'Olivia' person in this example), that value will appear as 'NaN'.\n",
    "And 'NaN'means 'Not a Number'"
   ]
  },
  {
   "cell_type": "code",
   "execution_count": 50,
   "metadata": {},
   "outputs": [
    {
     "data": {
      "text/plain": [
       "Darth_Vader_s exam result    99\n",
       "Michael_s exam result        35\n",
       "Olivia_s exam result         85\n",
       "dtype: int64"
      ]
     },
     "execution_count": 50,
     "metadata": {},
     "output_type": "execute_result"
    }
   ],
   "source": [
    "DataDict4 = C.append(A)\n",
    "DataDict4"
   ]
  },
  {
   "cell_type": "markdown",
   "metadata": {},
   "source": [
    "\n",
    "As seen above, we created a value called \"DataDict4\", added the value \"A\" to the \"C\" value, and we were able to see the exam results of all three people. If 'Darth Vader' has received such a high score, it is probably an exam related to the 'dark side of power'. :)"
   ]
  },
  {
   "cell_type": "code",
   "execution_count": 51,
   "metadata": {},
   "outputs": [
    {
     "data": {
      "text/plain": [
       "35"
      ]
     },
     "execution_count": 51,
     "metadata": {},
     "output_type": "execute_result"
    }
   ],
   "source": [
    "A['Michael_s exam result']"
   ]
  },
  {
   "cell_type": "code",
   "execution_count": 52,
   "metadata": {},
   "outputs": [
    {
     "data": {
      "text/plain": [
       "99"
      ]
     },
     "execution_count": 52,
     "metadata": {},
     "output_type": "execute_result"
    }
   ],
   "source": [
    "C['Darth_Vader_s exam result']"
   ]
  },
  {
   "cell_type": "markdown",
   "metadata": {},
   "source": [
    "\n",
    "Let me explain the code above immediately. 'Michael' and 'Olivia' people with 'A' value had exam results. Let's say we want to learn the exam result of 'Michael'. In this case, we need to write the first code. The same is true for the 'Darth Vader' character. This does not necessarily have to be a numerical value (int or float). It could also be a string of words, that is, words.\n",
    "The \"Series\" issue is so short and concise now let's move on to the \"DataFrame\" topic."
   ]
  },
  {
   "cell_type": "markdown",
   "metadata": {},
   "source": [
    "<a id=\"13\"></a> <br>\n",
    "# DataFrame creation and functions:"
   ]
  },
  {
   "cell_type": "markdown",
   "metadata": {},
   "source": [
    "\n",
    "We will do many operations with dataframes. Here, the columns are called 'Column' or 'Feature' and the rows are called 'row' or 'index'.\n",
    "First of all, we have to create a data for ourselves. Isn't it easy?"
   ]
  },
  {
   "cell_type": "markdown",
   "metadata": {},
   "source": [
    "Let's produce our first data and learn how to choose columns"
   ]
  },
  {
   "cell_type": "code",
   "execution_count": 53,
   "metadata": {},
   "outputs": [
    {
     "data": {
      "text/html": [
       "<div>\n",
       "<style scoped>\n",
       "    .dataframe tbody tr th:only-of-type {\n",
       "        vertical-align: middle;\n",
       "    }\n",
       "\n",
       "    .dataframe tbody tr th {\n",
       "        vertical-align: top;\n",
       "    }\n",
       "\n",
       "    .dataframe thead th {\n",
       "        text-align: right;\n",
       "    }\n",
       "</style>\n",
       "<table border=\"1\" class=\"dataframe\">\n",
       "  <thead>\n",
       "    <tr style=\"text-align: right;\">\n",
       "      <th></th>\n",
       "      <th>Columns1</th>\n",
       "      <th>Columns2</th>\n",
       "      <th>Columns3</th>\n",
       "      <th>Columns4</th>\n",
       "      <th>Columns5</th>\n",
       "    </tr>\n",
       "  </thead>\n",
       "  <tbody>\n",
       "    <tr>\n",
       "      <th>A</th>\n",
       "      <td>0.147207</td>\n",
       "      <td>1.431009</td>\n",
       "      <td>0.573086</td>\n",
       "      <td>0.491400</td>\n",
       "      <td>0.134344</td>\n",
       "    </tr>\n",
       "    <tr>\n",
       "      <th>B</th>\n",
       "      <td>1.973502</td>\n",
       "      <td>1.493159</td>\n",
       "      <td>-1.046506</td>\n",
       "      <td>-0.340613</td>\n",
       "      <td>1.522025</td>\n",
       "    </tr>\n",
       "    <tr>\n",
       "      <th>C</th>\n",
       "      <td>0.337196</td>\n",
       "      <td>0.166502</td>\n",
       "      <td>0.279811</td>\n",
       "      <td>0.859284</td>\n",
       "      <td>-0.406596</td>\n",
       "    </tr>\n",
       "    <tr>\n",
       "      <th>D</th>\n",
       "      <td>-0.866759</td>\n",
       "      <td>0.745735</td>\n",
       "      <td>-0.755706</td>\n",
       "      <td>2.038098</td>\n",
       "      <td>-0.596819</td>\n",
       "    </tr>\n",
       "    <tr>\n",
       "      <th>E</th>\n",
       "      <td>0.830552</td>\n",
       "      <td>-1.054423</td>\n",
       "      <td>1.231616</td>\n",
       "      <td>0.649414</td>\n",
       "      <td>0.761890</td>\n",
       "    </tr>\n",
       "  </tbody>\n",
       "</table>\n",
       "</div>"
      ],
      "text/plain": [
       "   Columns1  Columns2  Columns3  Columns4  Columns5\n",
       "A  0.147207  1.431009  0.573086  0.491400  0.134344\n",
       "B  1.973502  1.493159 -1.046506 -0.340613  1.522025\n",
       "C  0.337196  0.166502  0.279811  0.859284 -0.406596\n",
       "D -0.866759  0.745735 -0.755706  2.038098 -0.596819\n",
       "E  0.830552 -1.054423  1.231616  0.649414  0.761890"
      ]
     },
     "execution_count": 53,
     "metadata": {},
     "output_type": "execute_result"
    }
   ],
   "source": [
    "from numpy.random import randn\n",
    "df = pd.DataFrame(data = randn(5,5), index = ['A','B','C','D','E'], columns = ['Columns1','Columns2','Columns3','Columns4','Columns5'])\n",
    "df"
   ]
  },
  {
   "cell_type": "markdown",
   "metadata": {},
   "source": [
    "you can even select more than one column, not just 1 column."
   ]
  },
  {
   "cell_type": "code",
   "execution_count": 54,
   "metadata": {},
   "outputs": [
    {
     "data": {
      "text/html": [
       "<div>\n",
       "<style scoped>\n",
       "    .dataframe tbody tr th:only-of-type {\n",
       "        vertical-align: middle;\n",
       "    }\n",
       "\n",
       "    .dataframe tbody tr th {\n",
       "        vertical-align: top;\n",
       "    }\n",
       "\n",
       "    .dataframe thead th {\n",
       "        text-align: right;\n",
       "    }\n",
       "</style>\n",
       "<table border=\"1\" class=\"dataframe\">\n",
       "  <thead>\n",
       "    <tr style=\"text-align: right;\">\n",
       "      <th></th>\n",
       "      <th>Columns1</th>\n",
       "      <th>Columns5</th>\n",
       "    </tr>\n",
       "  </thead>\n",
       "  <tbody>\n",
       "    <tr>\n",
       "      <th>A</th>\n",
       "      <td>0.147207</td>\n",
       "      <td>0.134344</td>\n",
       "    </tr>\n",
       "    <tr>\n",
       "      <th>B</th>\n",
       "      <td>1.973502</td>\n",
       "      <td>1.522025</td>\n",
       "    </tr>\n",
       "    <tr>\n",
       "      <th>C</th>\n",
       "      <td>0.337196</td>\n",
       "      <td>-0.406596</td>\n",
       "    </tr>\n",
       "    <tr>\n",
       "      <th>D</th>\n",
       "      <td>-0.866759</td>\n",
       "      <td>-0.596819</td>\n",
       "    </tr>\n",
       "    <tr>\n",
       "      <th>E</th>\n",
       "      <td>0.830552</td>\n",
       "      <td>0.761890</td>\n",
       "    </tr>\n",
       "  </tbody>\n",
       "</table>\n",
       "</div>"
      ],
      "text/plain": [
       "   Columns1  Columns5\n",
       "A  0.147207  0.134344\n",
       "B  1.973502  1.522025\n",
       "C  0.337196 -0.406596\n",
       "D -0.866759 -0.596819\n",
       "E  0.830552  0.761890"
      ]
     },
     "execution_count": 54,
     "metadata": {},
     "output_type": "execute_result"
    }
   ],
   "source": [
    "df[['Columns1','Columns5']]"
   ]
  },
  {
   "cell_type": "markdown",
   "metadata": {},
   "source": [
    "\n",
    "We do the process of adding a new column as follows."
   ]
  },
  {
   "cell_type": "code",
   "execution_count": 55,
   "metadata": {},
   "outputs": [
    {
     "data": {
      "text/html": [
       "<div>\n",
       "<style scoped>\n",
       "    .dataframe tbody tr th:only-of-type {\n",
       "        vertical-align: middle;\n",
       "    }\n",
       "\n",
       "    .dataframe tbody tr th {\n",
       "        vertical-align: top;\n",
       "    }\n",
       "\n",
       "    .dataframe thead th {\n",
       "        text-align: right;\n",
       "    }\n",
       "</style>\n",
       "<table border=\"1\" class=\"dataframe\">\n",
       "  <thead>\n",
       "    <tr style=\"text-align: right;\">\n",
       "      <th></th>\n",
       "      <th>Columns1</th>\n",
       "      <th>Columns2</th>\n",
       "      <th>Columns3</th>\n",
       "      <th>Columns4</th>\n",
       "      <th>Columns5</th>\n",
       "      <th>Columns6</th>\n",
       "    </tr>\n",
       "  </thead>\n",
       "  <tbody>\n",
       "    <tr>\n",
       "      <th>A</th>\n",
       "      <td>0.147207</td>\n",
       "      <td>1.431009</td>\n",
       "      <td>0.573086</td>\n",
       "      <td>0.491400</td>\n",
       "      <td>0.134344</td>\n",
       "      <td>1.143336</td>\n",
       "    </tr>\n",
       "    <tr>\n",
       "      <th>B</th>\n",
       "      <td>1.973502</td>\n",
       "      <td>1.493159</td>\n",
       "      <td>-1.046506</td>\n",
       "      <td>-0.340613</td>\n",
       "      <td>1.522025</td>\n",
       "      <td>-0.360441</td>\n",
       "    </tr>\n",
       "    <tr>\n",
       "      <th>C</th>\n",
       "      <td>0.337196</td>\n",
       "      <td>0.166502</td>\n",
       "      <td>0.279811</td>\n",
       "      <td>0.859284</td>\n",
       "      <td>-0.406596</td>\n",
       "      <td>1.465242</td>\n",
       "    </tr>\n",
       "    <tr>\n",
       "      <th>D</th>\n",
       "      <td>-0.866759</td>\n",
       "      <td>0.745735</td>\n",
       "      <td>-0.755706</td>\n",
       "      <td>2.038098</td>\n",
       "      <td>-0.596819</td>\n",
       "      <td>0.530597</td>\n",
       "    </tr>\n",
       "    <tr>\n",
       "      <th>E</th>\n",
       "      <td>0.830552</td>\n",
       "      <td>-1.054423</td>\n",
       "      <td>1.231616</td>\n",
       "      <td>0.649414</td>\n",
       "      <td>0.761890</td>\n",
       "      <td>-1.487814</td>\n",
       "    </tr>\n",
       "  </tbody>\n",
       "</table>\n",
       "</div>"
      ],
      "text/plain": [
       "   Columns1  Columns2  Columns3  Columns4  Columns5  Columns6\n",
       "A  0.147207  1.431009  0.573086  0.491400  0.134344  1.143336\n",
       "B  1.973502  1.493159 -1.046506 -0.340613  1.522025 -0.360441\n",
       "C  0.337196  0.166502  0.279811  0.859284 -0.406596  1.465242\n",
       "D -0.866759  0.745735 -0.755706  2.038098 -0.596819  0.530597\n",
       "E  0.830552 -1.054423  1.231616  0.649414  0.761890 -1.487814"
      ]
     },
     "execution_count": 55,
     "metadata": {},
     "output_type": "execute_result"
    }
   ],
   "source": [
    "df['Columns6'] = pd.Series(randn(5),['A','B','C','D','E'])\n",
    "df"
   ]
  },
  {
   "cell_type": "markdown",
   "metadata": {},
   "source": [
    "\n",
    "You can also apply any operation to the column or row you want."
   ]
  },
  {
   "cell_type": "code",
   "execution_count": 56,
   "metadata": {},
   "outputs": [
    {
     "data": {
      "text/html": [
       "<div>\n",
       "<style scoped>\n",
       "    .dataframe tbody tr th:only-of-type {\n",
       "        vertical-align: middle;\n",
       "    }\n",
       "\n",
       "    .dataframe tbody tr th {\n",
       "        vertical-align: top;\n",
       "    }\n",
       "\n",
       "    .dataframe thead th {\n",
       "        text-align: right;\n",
       "    }\n",
       "</style>\n",
       "<table border=\"1\" class=\"dataframe\">\n",
       "  <thead>\n",
       "    <tr style=\"text-align: right;\">\n",
       "      <th></th>\n",
       "      <th>Columns1</th>\n",
       "      <th>Columns2</th>\n",
       "      <th>Columns3</th>\n",
       "      <th>Columns4</th>\n",
       "      <th>Columns5</th>\n",
       "      <th>Columns6</th>\n",
       "      <th>Columns7</th>\n",
       "    </tr>\n",
       "  </thead>\n",
       "  <tbody>\n",
       "    <tr>\n",
       "      <th>A</th>\n",
       "      <td>0.147207</td>\n",
       "      <td>1.431009</td>\n",
       "      <td>0.573086</td>\n",
       "      <td>0.491400</td>\n",
       "      <td>0.134344</td>\n",
       "      <td>1.143336</td>\n",
       "      <td>0.595721</td>\n",
       "    </tr>\n",
       "    <tr>\n",
       "      <th>B</th>\n",
       "      <td>1.973502</td>\n",
       "      <td>1.493159</td>\n",
       "      <td>-1.046506</td>\n",
       "      <td>-0.340613</td>\n",
       "      <td>1.522025</td>\n",
       "      <td>-0.360441</td>\n",
       "      <td>1.874508</td>\n",
       "    </tr>\n",
       "    <tr>\n",
       "      <th>C</th>\n",
       "      <td>0.337196</td>\n",
       "      <td>0.166502</td>\n",
       "      <td>0.279811</td>\n",
       "      <td>0.859284</td>\n",
       "      <td>-0.406596</td>\n",
       "      <td>1.465242</td>\n",
       "      <td>3.339753</td>\n",
       "    </tr>\n",
       "    <tr>\n",
       "      <th>D</th>\n",
       "      <td>-0.866759</td>\n",
       "      <td>0.745735</td>\n",
       "      <td>-0.755706</td>\n",
       "      <td>2.038098</td>\n",
       "      <td>-0.596819</td>\n",
       "      <td>0.530597</td>\n",
       "      <td>-3.481389</td>\n",
       "    </tr>\n",
       "    <tr>\n",
       "      <th>E</th>\n",
       "      <td>0.830552</td>\n",
       "      <td>-1.054423</td>\n",
       "      <td>1.231616</td>\n",
       "      <td>0.649414</td>\n",
       "      <td>0.761890</td>\n",
       "      <td>-1.487814</td>\n",
       "      <td>1.949416</td>\n",
       "    </tr>\n",
       "  </tbody>\n",
       "</table>\n",
       "</div>"
      ],
      "text/plain": [
       "   Columns1  Columns2  Columns3  Columns4  Columns5  Columns6  Columns7\n",
       "A  0.147207  1.431009  0.573086  0.491400  0.134344  1.143336  0.595721\n",
       "B  1.973502  1.493159 -1.046506 -0.340613  1.522025 -0.360441  1.874508\n",
       "C  0.337196  0.166502  0.279811  0.859284 -0.406596  1.465242  3.339753\n",
       "D -0.866759  0.745735 -0.755706  2.038098 -0.596819  0.530597 -3.481389\n",
       "E  0.830552 -1.054423  1.231616  0.649414  0.761890 -1.487814  1.949416"
      ]
     },
     "execution_count": 56,
     "metadata": {},
     "output_type": "execute_result"
    }
   ],
   "source": [
    "df['Columns7'] = (df['Columns6'] + df['Columns4'] - df['Columns1'] ) / df['Columns2'] * df['Columns3']\n",
    "df"
   ]
  },
  {
   "cell_type": "markdown",
   "metadata": {},
   "source": [
    "\n",
    "For example, we created the 'Column7' value above and synchronized it to a value created by various columns, and such a table was created.\n",
    "Can we add \"Column\" or not?\n"
   ]
  },
  {
   "cell_type": "code",
   "execution_count": 57,
   "metadata": {},
   "outputs": [
    {
     "data": {
      "text/html": [
       "<div>\n",
       "<style scoped>\n",
       "    .dataframe tbody tr th:only-of-type {\n",
       "        vertical-align: middle;\n",
       "    }\n",
       "\n",
       "    .dataframe tbody tr th {\n",
       "        vertical-align: top;\n",
       "    }\n",
       "\n",
       "    .dataframe thead th {\n",
       "        text-align: right;\n",
       "    }\n",
       "</style>\n",
       "<table border=\"1\" class=\"dataframe\">\n",
       "  <thead>\n",
       "    <tr style=\"text-align: right;\">\n",
       "      <th></th>\n",
       "      <th>Columns1</th>\n",
       "      <th>Columns3</th>\n",
       "      <th>Columns4</th>\n",
       "      <th>Columns5</th>\n",
       "      <th>Columns6</th>\n",
       "      <th>Columns7</th>\n",
       "    </tr>\n",
       "  </thead>\n",
       "  <tbody>\n",
       "    <tr>\n",
       "      <th>A</th>\n",
       "      <td>0.147207</td>\n",
       "      <td>0.573086</td>\n",
       "      <td>0.491400</td>\n",
       "      <td>0.134344</td>\n",
       "      <td>1.143336</td>\n",
       "      <td>0.595721</td>\n",
       "    </tr>\n",
       "    <tr>\n",
       "      <th>B</th>\n",
       "      <td>1.973502</td>\n",
       "      <td>-1.046506</td>\n",
       "      <td>-0.340613</td>\n",
       "      <td>1.522025</td>\n",
       "      <td>-0.360441</td>\n",
       "      <td>1.874508</td>\n",
       "    </tr>\n",
       "    <tr>\n",
       "      <th>C</th>\n",
       "      <td>0.337196</td>\n",
       "      <td>0.279811</td>\n",
       "      <td>0.859284</td>\n",
       "      <td>-0.406596</td>\n",
       "      <td>1.465242</td>\n",
       "      <td>3.339753</td>\n",
       "    </tr>\n",
       "    <tr>\n",
       "      <th>D</th>\n",
       "      <td>-0.866759</td>\n",
       "      <td>-0.755706</td>\n",
       "      <td>2.038098</td>\n",
       "      <td>-0.596819</td>\n",
       "      <td>0.530597</td>\n",
       "      <td>-3.481389</td>\n",
       "    </tr>\n",
       "    <tr>\n",
       "      <th>E</th>\n",
       "      <td>0.830552</td>\n",
       "      <td>1.231616</td>\n",
       "      <td>0.649414</td>\n",
       "      <td>0.761890</td>\n",
       "      <td>-1.487814</td>\n",
       "      <td>1.949416</td>\n",
       "    </tr>\n",
       "  </tbody>\n",
       "</table>\n",
       "</div>"
      ],
      "text/plain": [
       "   Columns1  Columns3  Columns4  Columns5  Columns6  Columns7\n",
       "A  0.147207  0.573086  0.491400  0.134344  1.143336  0.595721\n",
       "B  1.973502 -1.046506 -0.340613  1.522025 -0.360441  1.874508\n",
       "C  0.337196  0.279811  0.859284 -0.406596  1.465242  3.339753\n",
       "D -0.866759 -0.755706  2.038098 -0.596819  0.530597 -3.481389\n",
       "E  0.830552  1.231616  0.649414  0.761890 -1.487814  1.949416"
      ]
     },
     "execution_count": 57,
     "metadata": {},
     "output_type": "execute_result"
    }
   ],
   "source": [
    "df.drop('Columns2', axis = 1, inplace = True)\n",
    "df"
   ]
  },
  {
   "cell_type": "markdown",
   "metadata": {},
   "source": [
    "\n",
    "'The default value of axis is 0. and '0' rows represent '1' columns. The 'inplace' parameter here is important. It determines whether this operation is permanent and when we say 'True' it permanently assigns.\n",
    "\n",
    "\n",
    "\n",
    "We can assign a 'Column' value as index title as follows.\n",
    "\n",
    "\n",
    "df.set_index('Columns name', inplace = True)"
   ]
  },
  {
   "cell_type": "code",
   "execution_count": 58,
   "metadata": {},
   "outputs": [
    {
     "data": {
      "text/plain": [
       "FrozenList([None])"
      ]
     },
     "execution_count": 58,
     "metadata": {},
     "output_type": "execute_result"
    }
   ],
   "source": [
    "df.index.names"
   ]
  },
  {
   "cell_type": "code",
   "execution_count": 59,
   "metadata": {},
   "outputs": [
    {
     "data": {
      "text/plain": [
       "FrozenList([None])"
      ]
     },
     "execution_count": 59,
     "metadata": {},
     "output_type": "execute_result"
    }
   ],
   "source": [
    "df.columns.names"
   ]
  },
  {
   "cell_type": "markdown",
   "metadata": {},
   "source": [
    "\n",
    "Now let's learn the status of 'loc' and 'iloc'.\n",
    "\n",
    "\n",
    "When we use this code, it gives us the 'Column' values ​​in the 'C' line."
   ]
  },
  {
   "cell_type": "code",
   "execution_count": 60,
   "metadata": {},
   "outputs": [
    {
     "data": {
      "text/plain": [
       "Columns1    0.337196\n",
       "Columns3    0.279811\n",
       "Columns4    0.859284\n",
       "Columns5   -0.406596\n",
       "Columns6    1.465242\n",
       "Columns7    3.339753\n",
       "Name: C, dtype: float64"
      ]
     },
     "execution_count": 60,
     "metadata": {},
     "output_type": "execute_result"
    }
   ],
   "source": [
    "df.loc['C']"
   ]
  },
  {
   "cell_type": "code",
   "execution_count": 61,
   "metadata": {},
   "outputs": [
    {
     "data": {
      "text/plain": [
       "Columns1    0.147207\n",
       "Columns3    0.573086\n",
       "Columns4    0.491400\n",
       "Columns5    0.134344\n",
       "Columns6    1.143336\n",
       "Columns7    0.595721\n",
       "Name: A, dtype: float64"
      ]
     },
     "execution_count": 61,
     "metadata": {},
     "output_type": "execute_result"
    }
   ],
   "source": [
    "df.loc['A']"
   ]
  },
  {
   "cell_type": "code",
   "execution_count": 62,
   "metadata": {},
   "outputs": [
    {
     "data": {
      "text/plain": [
       "Columns1    0.147207\n",
       "Columns3    0.573086\n",
       "Columns4    0.491400\n",
       "Columns5    0.134344\n",
       "Columns6    1.143336\n",
       "Columns7    0.595721\n",
       "Name: A, dtype: float64"
      ]
     },
     "execution_count": 62,
     "metadata": {},
     "output_type": "execute_result"
    }
   ],
   "source": [
    "df.iloc[0]"
   ]
  },
  {
   "cell_type": "markdown",
   "metadata": {},
   "source": [
    "\n",
    "focus on the difference between these 2 codes. Did you find it?\n",
    "\n",
    "\n",
    "The 'iloc' function extracts the 'Column' values ​​according to the index of the line, and the indices of the lines proceed from 0 as you know. The index of \"A\" is 0, and \"0\" is given to the \"iloc\" function. So these two functions actually represent the same thing. While you need to specify a name in the \"loc\" function, you need to specify an index in \"iloc\"."
   ]
  },
  {
   "cell_type": "markdown",
   "metadata": {},
   "source": [
    "\n",
    "if you are looking for very special data, you can do it this way"
   ]
  },
  {
   "cell_type": "code",
   "execution_count": 63,
   "metadata": {},
   "outputs": [
    {
     "data": {
      "text/plain": [
       "0.1343438516448686"
      ]
     },
     "execution_count": 63,
     "metadata": {},
     "output_type": "execute_result"
    }
   ],
   "source": [
    "df.loc['A','Columns5']"
   ]
  },
  {
   "cell_type": "code",
   "execution_count": 64,
   "metadata": {},
   "outputs": [
    {
     "name": "stderr",
     "output_type": "stream",
     "text": [
      "/opt/conda/lib/python3.6/site-packages/ipykernel_launcher.py:1: FutureWarning: \n",
      "Passing list-likes to .loc or [] with any missing label will raise\n",
      "KeyError in the future, you can use .reindex() as an alternative.\n",
      "\n",
      "See the documentation here:\n",
      "https://pandas.pydata.org/pandas-docs/stable/user_guide/indexing.html#deprecate-loc-reindex-listlike\n",
      "  \"\"\"Entry point for launching an IPython kernel.\n"
     ]
    },
    {
     "data": {
      "text/html": [
       "<div>\n",
       "<style scoped>\n",
       "    .dataframe tbody tr th:only-of-type {\n",
       "        vertical-align: middle;\n",
       "    }\n",
       "\n",
       "    .dataframe tbody tr th {\n",
       "        vertical-align: top;\n",
       "    }\n",
       "\n",
       "    .dataframe thead th {\n",
       "        text-align: right;\n",
       "    }\n",
       "</style>\n",
       "<table border=\"1\" class=\"dataframe\">\n",
       "  <thead>\n",
       "    <tr style=\"text-align: right;\">\n",
       "      <th></th>\n",
       "      <th>Columns1</th>\n",
       "      <th>Columns3</th>\n",
       "      <th>Columns4</th>\n",
       "      <th>Columns5</th>\n",
       "      <th>Columns6</th>\n",
       "      <th>Columns7</th>\n",
       "    </tr>\n",
       "  </thead>\n",
       "  <tbody>\n",
       "    <tr>\n",
       "      <th>B</th>\n",
       "      <td>1.973502</td>\n",
       "      <td>-1.046506</td>\n",
       "      <td>-0.340613</td>\n",
       "      <td>1.522025</td>\n",
       "      <td>-0.360441</td>\n",
       "      <td>1.874508</td>\n",
       "    </tr>\n",
       "    <tr>\n",
       "      <th>Columns4</th>\n",
       "      <td>NaN</td>\n",
       "      <td>NaN</td>\n",
       "      <td>NaN</td>\n",
       "      <td>NaN</td>\n",
       "      <td>NaN</td>\n",
       "      <td>NaN</td>\n",
       "    </tr>\n",
       "  </tbody>\n",
       "</table>\n",
       "</div>"
      ],
      "text/plain": [
       "          Columns1  Columns3  Columns4  Columns5  Columns6  Columns7\n",
       "B         1.973502 -1.046506 -0.340613  1.522025 -0.360441  1.874508\n",
       "Columns4       NaN       NaN       NaN       NaN       NaN       NaN"
      ]
     },
     "execution_count": 64,
     "metadata": {},
     "output_type": "execute_result"
    }
   ],
   "source": [
    "df.loc[['A','Columns5'] and ['B','Columns4']]"
   ]
  },
  {
   "cell_type": "markdown",
   "metadata": {},
   "source": [
    "\n",
    "As it turns out, it can be used in expressions like ‘or, 'and' above.\n",
    "\n",
    "\n",
    "we can call and look at multiple columns and rows. Our topic here is over, next is 'DataFrame Filtering operations'."
   ]
  },
  {
   "cell_type": "code",
   "execution_count": 65,
   "metadata": {},
   "outputs": [
    {
     "name": "stderr",
     "output_type": "stream",
     "text": [
      "/opt/conda/lib/python3.6/site-packages/pandas/core/indexing.py:1418: FutureWarning: \n",
      "Passing list-likes to .loc or [] with any missing label will raise\n",
      "KeyError in the future, you can use .reindex() as an alternative.\n",
      "\n",
      "See the documentation here:\n",
      "https://pandas.pydata.org/pandas-docs/stable/user_guide/indexing.html#deprecate-loc-reindex-listlike\n",
      "  return self._getitem_tuple(key)\n"
     ]
    },
    {
     "data": {
      "text/html": [
       "<div>\n",
       "<style scoped>\n",
       "    .dataframe tbody tr th:only-of-type {\n",
       "        vertical-align: middle;\n",
       "    }\n",
       "\n",
       "    .dataframe tbody tr th {\n",
       "        vertical-align: top;\n",
       "    }\n",
       "\n",
       "    .dataframe thead th {\n",
       "        text-align: right;\n",
       "    }\n",
       "</style>\n",
       "<table border=\"1\" class=\"dataframe\">\n",
       "  <thead>\n",
       "    <tr style=\"text-align: right;\">\n",
       "      <th></th>\n",
       "      <th>Columns4</th>\n",
       "      <th>Columns2</th>\n",
       "    </tr>\n",
       "  </thead>\n",
       "  <tbody>\n",
       "    <tr>\n",
       "      <th>A</th>\n",
       "      <td>0.491400</td>\n",
       "      <td>NaN</td>\n",
       "    </tr>\n",
       "    <tr>\n",
       "      <th>D</th>\n",
       "      <td>2.038098</td>\n",
       "      <td>NaN</td>\n",
       "    </tr>\n",
       "  </tbody>\n",
       "</table>\n",
       "</div>"
      ],
      "text/plain": [
       "   Columns4  Columns2\n",
       "A  0.491400       NaN\n",
       "D  2.038098       NaN"
      ]
     },
     "execution_count": 65,
     "metadata": {},
     "output_type": "execute_result"
    }
   ],
   "source": [
    "df.loc[['A','D'],['Columns4','Columns2']]"
   ]
  },
  {
   "cell_type": "markdown",
   "metadata": {},
   "source": [
    "<a id=\"14\"></a> <br>\n",
    "# DataFrame Filtering Operations:"
   ]
  },
  {
   "cell_type": "markdown",
   "metadata": {},
   "source": [
    "\n",
    "we use it when we want to find or get the value of our data at certain intervals. If you wish, let's remember our data and start with simple operations."
   ]
  },
  {
   "cell_type": "code",
   "execution_count": 66,
   "metadata": {},
   "outputs": [
    {
     "data": {
      "text/html": [
       "<div>\n",
       "<style scoped>\n",
       "    .dataframe tbody tr th:only-of-type {\n",
       "        vertical-align: middle;\n",
       "    }\n",
       "\n",
       "    .dataframe tbody tr th {\n",
       "        vertical-align: top;\n",
       "    }\n",
       "\n",
       "    .dataframe thead th {\n",
       "        text-align: right;\n",
       "    }\n",
       "</style>\n",
       "<table border=\"1\" class=\"dataframe\">\n",
       "  <thead>\n",
       "    <tr style=\"text-align: right;\">\n",
       "      <th></th>\n",
       "      <th>Columns1</th>\n",
       "      <th>Columns3</th>\n",
       "      <th>Columns4</th>\n",
       "      <th>Columns5</th>\n",
       "      <th>Columns6</th>\n",
       "      <th>Columns7</th>\n",
       "    </tr>\n",
       "  </thead>\n",
       "  <tbody>\n",
       "    <tr>\n",
       "      <th>A</th>\n",
       "      <td>0.147207</td>\n",
       "      <td>0.573086</td>\n",
       "      <td>0.491400</td>\n",
       "      <td>0.134344</td>\n",
       "      <td>1.143336</td>\n",
       "      <td>0.595721</td>\n",
       "    </tr>\n",
       "    <tr>\n",
       "      <th>B</th>\n",
       "      <td>1.973502</td>\n",
       "      <td>-1.046506</td>\n",
       "      <td>-0.340613</td>\n",
       "      <td>1.522025</td>\n",
       "      <td>-0.360441</td>\n",
       "      <td>1.874508</td>\n",
       "    </tr>\n",
       "    <tr>\n",
       "      <th>C</th>\n",
       "      <td>0.337196</td>\n",
       "      <td>0.279811</td>\n",
       "      <td>0.859284</td>\n",
       "      <td>-0.406596</td>\n",
       "      <td>1.465242</td>\n",
       "      <td>3.339753</td>\n",
       "    </tr>\n",
       "    <tr>\n",
       "      <th>D</th>\n",
       "      <td>-0.866759</td>\n",
       "      <td>-0.755706</td>\n",
       "      <td>2.038098</td>\n",
       "      <td>-0.596819</td>\n",
       "      <td>0.530597</td>\n",
       "      <td>-3.481389</td>\n",
       "    </tr>\n",
       "    <tr>\n",
       "      <th>E</th>\n",
       "      <td>0.830552</td>\n",
       "      <td>1.231616</td>\n",
       "      <td>0.649414</td>\n",
       "      <td>0.761890</td>\n",
       "      <td>-1.487814</td>\n",
       "      <td>1.949416</td>\n",
       "    </tr>\n",
       "  </tbody>\n",
       "</table>\n",
       "</div>"
      ],
      "text/plain": [
       "   Columns1  Columns3  Columns4  Columns5  Columns6  Columns7\n",
       "A  0.147207  0.573086  0.491400  0.134344  1.143336  0.595721\n",
       "B  1.973502 -1.046506 -0.340613  1.522025 -0.360441  1.874508\n",
       "C  0.337196  0.279811  0.859284 -0.406596  1.465242  3.339753\n",
       "D -0.866759 -0.755706  2.038098 -0.596819  0.530597 -3.481389\n",
       "E  0.830552  1.231616  0.649414  0.761890 -1.487814  1.949416"
      ]
     },
     "execution_count": 66,
     "metadata": {},
     "output_type": "execute_result"
    }
   ],
   "source": [
    "df"
   ]
  },
  {
   "cell_type": "markdown",
   "metadata": {},
   "source": [
    "\n",
    "And let's move on to simple operations."
   ]
  },
  {
   "cell_type": "code",
   "execution_count": 67,
   "metadata": {},
   "outputs": [
    {
     "data": {
      "text/html": [
       "<div>\n",
       "<style scoped>\n",
       "    .dataframe tbody tr th:only-of-type {\n",
       "        vertical-align: middle;\n",
       "    }\n",
       "\n",
       "    .dataframe tbody tr th {\n",
       "        vertical-align: top;\n",
       "    }\n",
       "\n",
       "    .dataframe thead th {\n",
       "        text-align: right;\n",
       "    }\n",
       "</style>\n",
       "<table border=\"1\" class=\"dataframe\">\n",
       "  <thead>\n",
       "    <tr style=\"text-align: right;\">\n",
       "      <th></th>\n",
       "      <th>Columns1</th>\n",
       "      <th>Columns3</th>\n",
       "      <th>Columns4</th>\n",
       "      <th>Columns5</th>\n",
       "      <th>Columns6</th>\n",
       "      <th>Columns7</th>\n",
       "    </tr>\n",
       "  </thead>\n",
       "  <tbody>\n",
       "    <tr>\n",
       "      <th>A</th>\n",
       "      <td>False</td>\n",
       "      <td>True</td>\n",
       "      <td>True</td>\n",
       "      <td>False</td>\n",
       "      <td>True</td>\n",
       "      <td>True</td>\n",
       "    </tr>\n",
       "    <tr>\n",
       "      <th>B</th>\n",
       "      <td>True</td>\n",
       "      <td>False</td>\n",
       "      <td>False</td>\n",
       "      <td>True</td>\n",
       "      <td>False</td>\n",
       "      <td>True</td>\n",
       "    </tr>\n",
       "    <tr>\n",
       "      <th>C</th>\n",
       "      <td>True</td>\n",
       "      <td>True</td>\n",
       "      <td>True</td>\n",
       "      <td>False</td>\n",
       "      <td>True</td>\n",
       "      <td>True</td>\n",
       "    </tr>\n",
       "    <tr>\n",
       "      <th>D</th>\n",
       "      <td>False</td>\n",
       "      <td>False</td>\n",
       "      <td>True</td>\n",
       "      <td>False</td>\n",
       "      <td>True</td>\n",
       "      <td>False</td>\n",
       "    </tr>\n",
       "    <tr>\n",
       "      <th>E</th>\n",
       "      <td>True</td>\n",
       "      <td>True</td>\n",
       "      <td>True</td>\n",
       "      <td>True</td>\n",
       "      <td>False</td>\n",
       "      <td>True</td>\n",
       "    </tr>\n",
       "  </tbody>\n",
       "</table>\n",
       "</div>"
      ],
      "text/plain": [
       "   Columns1  Columns3  Columns4  Columns5  Columns6  Columns7\n",
       "A     False      True      True     False      True      True\n",
       "B      True     False     False      True     False      True\n",
       "C      True      True      True     False      True      True\n",
       "D     False     False      True     False      True     False\n",
       "E      True      True      True      True     False      True"
      ]
     },
     "execution_count": 67,
     "metadata": {},
     "output_type": "execute_result"
    }
   ],
   "source": [
    "df > 0.2"
   ]
  },
  {
   "cell_type": "code",
   "execution_count": 68,
   "metadata": {},
   "outputs": [
    {
     "data": {
      "text/html": [
       "<div>\n",
       "<style scoped>\n",
       "    .dataframe tbody tr th:only-of-type {\n",
       "        vertical-align: middle;\n",
       "    }\n",
       "\n",
       "    .dataframe tbody tr th {\n",
       "        vertical-align: top;\n",
       "    }\n",
       "\n",
       "    .dataframe thead th {\n",
       "        text-align: right;\n",
       "    }\n",
       "</style>\n",
       "<table border=\"1\" class=\"dataframe\">\n",
       "  <thead>\n",
       "    <tr style=\"text-align: right;\">\n",
       "      <th></th>\n",
       "      <th>Columns1</th>\n",
       "      <th>Columns3</th>\n",
       "      <th>Columns4</th>\n",
       "      <th>Columns5</th>\n",
       "      <th>Columns6</th>\n",
       "      <th>Columns7</th>\n",
       "    </tr>\n",
       "  </thead>\n",
       "  <tbody>\n",
       "    <tr>\n",
       "      <th>A</th>\n",
       "      <td>True</td>\n",
       "      <td>True</td>\n",
       "      <td>True</td>\n",
       "      <td>True</td>\n",
       "      <td>True</td>\n",
       "      <td>True</td>\n",
       "    </tr>\n",
       "    <tr>\n",
       "      <th>B</th>\n",
       "      <td>True</td>\n",
       "      <td>False</td>\n",
       "      <td>False</td>\n",
       "      <td>True</td>\n",
       "      <td>False</td>\n",
       "      <td>True</td>\n",
       "    </tr>\n",
       "    <tr>\n",
       "      <th>C</th>\n",
       "      <td>True</td>\n",
       "      <td>True</td>\n",
       "      <td>True</td>\n",
       "      <td>False</td>\n",
       "      <td>True</td>\n",
       "      <td>True</td>\n",
       "    </tr>\n",
       "    <tr>\n",
       "      <th>D</th>\n",
       "      <td>False</td>\n",
       "      <td>False</td>\n",
       "      <td>True</td>\n",
       "      <td>False</td>\n",
       "      <td>True</td>\n",
       "      <td>False</td>\n",
       "    </tr>\n",
       "    <tr>\n",
       "      <th>E</th>\n",
       "      <td>True</td>\n",
       "      <td>True</td>\n",
       "      <td>True</td>\n",
       "      <td>True</td>\n",
       "      <td>False</td>\n",
       "      <td>True</td>\n",
       "    </tr>\n",
       "  </tbody>\n",
       "</table>\n",
       "</div>"
      ],
      "text/plain": [
       "   Columns1  Columns3  Columns4  Columns5  Columns6  Columns7\n",
       "A      True      True      True      True      True      True\n",
       "B      True     False     False      True     False      True\n",
       "C      True      True      True     False      True      True\n",
       "D     False     False      True     False      True     False\n",
       "E      True      True      True      True     False      True"
      ]
     },
     "execution_count": 68,
     "metadata": {},
     "output_type": "execute_result"
    }
   ],
   "source": [
    "booleanDF = df > 0\n",
    "booleanDF"
   ]
  },
  {
   "cell_type": "markdown",
   "metadata": {},
   "source": [
    "\n",
    "We can explain 'Boolean' as follows. Returns the value of 'False' if the desired value (if it is bigger than '0') satisfies the condition if it is not 'True'."
   ]
  },
  {
   "cell_type": "code",
   "execution_count": 69,
   "metadata": {},
   "outputs": [
    {
     "data": {
      "text/html": [
       "<div>\n",
       "<style scoped>\n",
       "    .dataframe tbody tr th:only-of-type {\n",
       "        vertical-align: middle;\n",
       "    }\n",
       "\n",
       "    .dataframe tbody tr th {\n",
       "        vertical-align: top;\n",
       "    }\n",
       "\n",
       "    .dataframe thead th {\n",
       "        text-align: right;\n",
       "    }\n",
       "</style>\n",
       "<table border=\"1\" class=\"dataframe\">\n",
       "  <thead>\n",
       "    <tr style=\"text-align: right;\">\n",
       "      <th></th>\n",
       "      <th>Columns1</th>\n",
       "      <th>Columns3</th>\n",
       "      <th>Columns4</th>\n",
       "      <th>Columns5</th>\n",
       "      <th>Columns6</th>\n",
       "      <th>Columns7</th>\n",
       "    </tr>\n",
       "  </thead>\n",
       "  <tbody>\n",
       "    <tr>\n",
       "      <th>A</th>\n",
       "      <td>0.147207</td>\n",
       "      <td>0.573086</td>\n",
       "      <td>0.491400</td>\n",
       "      <td>0.134344</td>\n",
       "      <td>1.143336</td>\n",
       "      <td>0.595721</td>\n",
       "    </tr>\n",
       "    <tr>\n",
       "      <th>B</th>\n",
       "      <td>1.973502</td>\n",
       "      <td>NaN</td>\n",
       "      <td>NaN</td>\n",
       "      <td>1.522025</td>\n",
       "      <td>NaN</td>\n",
       "      <td>1.874508</td>\n",
       "    </tr>\n",
       "    <tr>\n",
       "      <th>C</th>\n",
       "      <td>0.337196</td>\n",
       "      <td>0.279811</td>\n",
       "      <td>0.859284</td>\n",
       "      <td>NaN</td>\n",
       "      <td>1.465242</td>\n",
       "      <td>3.339753</td>\n",
       "    </tr>\n",
       "    <tr>\n",
       "      <th>D</th>\n",
       "      <td>NaN</td>\n",
       "      <td>NaN</td>\n",
       "      <td>2.038098</td>\n",
       "      <td>NaN</td>\n",
       "      <td>0.530597</td>\n",
       "      <td>NaN</td>\n",
       "    </tr>\n",
       "    <tr>\n",
       "      <th>E</th>\n",
       "      <td>0.830552</td>\n",
       "      <td>1.231616</td>\n",
       "      <td>0.649414</td>\n",
       "      <td>0.761890</td>\n",
       "      <td>NaN</td>\n",
       "      <td>1.949416</td>\n",
       "    </tr>\n",
       "  </tbody>\n",
       "</table>\n",
       "</div>"
      ],
      "text/plain": [
       "   Columns1  Columns3  Columns4  Columns5  Columns6  Columns7\n",
       "A  0.147207  0.573086  0.491400  0.134344  1.143336  0.595721\n",
       "B  1.973502       NaN       NaN  1.522025       NaN  1.874508\n",
       "C  0.337196  0.279811  0.859284       NaN  1.465242  3.339753\n",
       "D       NaN       NaN  2.038098       NaN  0.530597       NaN\n",
       "E  0.830552  1.231616  0.649414  0.761890       NaN  1.949416"
      ]
     },
     "execution_count": 69,
     "metadata": {},
     "output_type": "execute_result"
    }
   ],
   "source": [
    "df[booleanDF]"
   ]
  },
  {
   "cell_type": "markdown",
   "metadata": {},
   "source": [
    "\n",
    "Here, 'NaN' values ​​represent 'False' values ​​in the above Boolean value."
   ]
  },
  {
   "cell_type": "code",
   "execution_count": 70,
   "metadata": {},
   "outputs": [
    {
     "data": {
      "text/html": [
       "<div>\n",
       "<style scoped>\n",
       "    .dataframe tbody tr th:only-of-type {\n",
       "        vertical-align: middle;\n",
       "    }\n",
       "\n",
       "    .dataframe tbody tr th {\n",
       "        vertical-align: top;\n",
       "    }\n",
       "\n",
       "    .dataframe thead th {\n",
       "        text-align: right;\n",
       "    }\n",
       "</style>\n",
       "<table border=\"1\" class=\"dataframe\">\n",
       "  <thead>\n",
       "    <tr style=\"text-align: right;\">\n",
       "      <th></th>\n",
       "      <th>Columns1</th>\n",
       "      <th>Columns3</th>\n",
       "      <th>Columns4</th>\n",
       "      <th>Columns5</th>\n",
       "      <th>Columns6</th>\n",
       "      <th>Columns7</th>\n",
       "    </tr>\n",
       "  </thead>\n",
       "  <tbody>\n",
       "    <tr>\n",
       "      <th>A</th>\n",
       "      <td>NaN</td>\n",
       "      <td>0.573086</td>\n",
       "      <td>NaN</td>\n",
       "      <td>NaN</td>\n",
       "      <td>1.143336</td>\n",
       "      <td>0.595721</td>\n",
       "    </tr>\n",
       "    <tr>\n",
       "      <th>B</th>\n",
       "      <td>1.973502</td>\n",
       "      <td>NaN</td>\n",
       "      <td>NaN</td>\n",
       "      <td>1.522025</td>\n",
       "      <td>NaN</td>\n",
       "      <td>1.874508</td>\n",
       "    </tr>\n",
       "    <tr>\n",
       "      <th>C</th>\n",
       "      <td>NaN</td>\n",
       "      <td>NaN</td>\n",
       "      <td>0.859284</td>\n",
       "      <td>NaN</td>\n",
       "      <td>1.465242</td>\n",
       "      <td>3.339753</td>\n",
       "    </tr>\n",
       "    <tr>\n",
       "      <th>D</th>\n",
       "      <td>NaN</td>\n",
       "      <td>NaN</td>\n",
       "      <td>2.038098</td>\n",
       "      <td>NaN</td>\n",
       "      <td>0.530597</td>\n",
       "      <td>NaN</td>\n",
       "    </tr>\n",
       "    <tr>\n",
       "      <th>E</th>\n",
       "      <td>0.830552</td>\n",
       "      <td>1.231616</td>\n",
       "      <td>0.649414</td>\n",
       "      <td>0.761890</td>\n",
       "      <td>NaN</td>\n",
       "      <td>1.949416</td>\n",
       "    </tr>\n",
       "  </tbody>\n",
       "</table>\n",
       "</div>"
      ],
      "text/plain": [
       "   Columns1  Columns3  Columns4  Columns5  Columns6  Columns7\n",
       "A       NaN  0.573086       NaN       NaN  1.143336  0.595721\n",
       "B  1.973502       NaN       NaN  1.522025       NaN  1.874508\n",
       "C       NaN       NaN  0.859284       NaN  1.465242  3.339753\n",
       "D       NaN       NaN  2.038098       NaN  0.530597       NaN\n",
       "E  0.830552  1.231616  0.649414  0.761890       NaN  1.949416"
      ]
     },
     "execution_count": 70,
     "metadata": {},
     "output_type": "execute_result"
    }
   ],
   "source": [
    "df[df > 0.5]"
   ]
  },
  {
   "cell_type": "markdown",
   "metadata": {},
   "source": [
    "\n",
    "Here it shows the ones larger than '0.5' in 'df'. Those who are 'False' are again shown as 'NaN'. We will explain this later with better examples."
   ]
  },
  {
   "cell_type": "code",
   "execution_count": 71,
   "metadata": {},
   "outputs": [
    {
     "data": {
      "text/plain": [
       "A     True\n",
       "B     True\n",
       "C     True\n",
       "D    False\n",
       "E     True\n",
       "Name: Columns1, dtype: bool"
      ]
     },
     "execution_count": 71,
     "metadata": {},
     "output_type": "execute_result"
    }
   ],
   "source": [
    "df['Columns1'] > 0"
   ]
  },
  {
   "cell_type": "markdown",
   "metadata": {},
   "source": [
    "\n",
    "Above you see the filtering of a certain 'Column' value. Below you can see it applied to every 'Column' value. In some, the result is different. Some have 4 lines, some have 2 lines, why do you think it might be?"
   ]
  },
  {
   "cell_type": "code",
   "execution_count": 72,
   "metadata": {},
   "outputs": [
    {
     "data": {
      "text/html": [
       "<div>\n",
       "<style scoped>\n",
       "    .dataframe tbody tr th:only-of-type {\n",
       "        vertical-align: middle;\n",
       "    }\n",
       "\n",
       "    .dataframe tbody tr th {\n",
       "        vertical-align: top;\n",
       "    }\n",
       "\n",
       "    .dataframe thead th {\n",
       "        text-align: right;\n",
       "    }\n",
       "</style>\n",
       "<table border=\"1\" class=\"dataframe\">\n",
       "  <thead>\n",
       "    <tr style=\"text-align: right;\">\n",
       "      <th></th>\n",
       "      <th>Columns1</th>\n",
       "      <th>Columns3</th>\n",
       "      <th>Columns4</th>\n",
       "      <th>Columns5</th>\n",
       "      <th>Columns6</th>\n",
       "      <th>Columns7</th>\n",
       "    </tr>\n",
       "  </thead>\n",
       "  <tbody>\n",
       "    <tr>\n",
       "      <th>A</th>\n",
       "      <td>0.147207</td>\n",
       "      <td>0.573086</td>\n",
       "      <td>0.491400</td>\n",
       "      <td>0.134344</td>\n",
       "      <td>1.143336</td>\n",
       "      <td>0.595721</td>\n",
       "    </tr>\n",
       "    <tr>\n",
       "      <th>C</th>\n",
       "      <td>0.337196</td>\n",
       "      <td>0.279811</td>\n",
       "      <td>0.859284</td>\n",
       "      <td>-0.406596</td>\n",
       "      <td>1.465242</td>\n",
       "      <td>3.339753</td>\n",
       "    </tr>\n",
       "    <tr>\n",
       "      <th>E</th>\n",
       "      <td>0.830552</td>\n",
       "      <td>1.231616</td>\n",
       "      <td>0.649414</td>\n",
       "      <td>0.761890</td>\n",
       "      <td>-1.487814</td>\n",
       "      <td>1.949416</td>\n",
       "    </tr>\n",
       "  </tbody>\n",
       "</table>\n",
       "</div>"
      ],
      "text/plain": [
       "   Columns1  Columns3  Columns4  Columns5  Columns6  Columns7\n",
       "A  0.147207  0.573086  0.491400  0.134344  1.143336  0.595721\n",
       "C  0.337196  0.279811  0.859284 -0.406596  1.465242  3.339753\n",
       "E  0.830552  1.231616  0.649414  0.761890 -1.487814  1.949416"
      ]
     },
     "execution_count": 72,
     "metadata": {},
     "output_type": "execute_result"
    }
   ],
   "source": [
    "df[df['Columns3']> 0]"
   ]
  },
  {
   "cell_type": "code",
   "execution_count": 73,
   "metadata": {},
   "outputs": [
    {
     "data": {
      "text/html": [
       "<div>\n",
       "<style scoped>\n",
       "    .dataframe tbody tr th:only-of-type {\n",
       "        vertical-align: middle;\n",
       "    }\n",
       "\n",
       "    .dataframe tbody tr th {\n",
       "        vertical-align: top;\n",
       "    }\n",
       "\n",
       "    .dataframe thead th {\n",
       "        text-align: right;\n",
       "    }\n",
       "</style>\n",
       "<table border=\"1\" class=\"dataframe\">\n",
       "  <thead>\n",
       "    <tr style=\"text-align: right;\">\n",
       "      <th></th>\n",
       "      <th>Columns1</th>\n",
       "      <th>Columns3</th>\n",
       "      <th>Columns4</th>\n",
       "      <th>Columns5</th>\n",
       "      <th>Columns6</th>\n",
       "      <th>Columns7</th>\n",
       "    </tr>\n",
       "  </thead>\n",
       "  <tbody>\n",
       "    <tr>\n",
       "      <th>A</th>\n",
       "      <td>0.147207</td>\n",
       "      <td>0.573086</td>\n",
       "      <td>0.491400</td>\n",
       "      <td>0.134344</td>\n",
       "      <td>1.143336</td>\n",
       "      <td>0.595721</td>\n",
       "    </tr>\n",
       "    <tr>\n",
       "      <th>C</th>\n",
       "      <td>0.337196</td>\n",
       "      <td>0.279811</td>\n",
       "      <td>0.859284</td>\n",
       "      <td>-0.406596</td>\n",
       "      <td>1.465242</td>\n",
       "      <td>3.339753</td>\n",
       "    </tr>\n",
       "    <tr>\n",
       "      <th>D</th>\n",
       "      <td>-0.866759</td>\n",
       "      <td>-0.755706</td>\n",
       "      <td>2.038098</td>\n",
       "      <td>-0.596819</td>\n",
       "      <td>0.530597</td>\n",
       "      <td>-3.481389</td>\n",
       "    </tr>\n",
       "    <tr>\n",
       "      <th>E</th>\n",
       "      <td>0.830552</td>\n",
       "      <td>1.231616</td>\n",
       "      <td>0.649414</td>\n",
       "      <td>0.761890</td>\n",
       "      <td>-1.487814</td>\n",
       "      <td>1.949416</td>\n",
       "    </tr>\n",
       "  </tbody>\n",
       "</table>\n",
       "</div>"
      ],
      "text/plain": [
       "   Columns1  Columns3  Columns4  Columns5  Columns6  Columns7\n",
       "A  0.147207  0.573086  0.491400  0.134344  1.143336  0.595721\n",
       "C  0.337196  0.279811  0.859284 -0.406596  1.465242  3.339753\n",
       "D -0.866759 -0.755706  2.038098 -0.596819  0.530597 -3.481389\n",
       "E  0.830552  1.231616  0.649414  0.761890 -1.487814  1.949416"
      ]
     },
     "execution_count": 73,
     "metadata": {},
     "output_type": "execute_result"
    }
   ],
   "source": [
    "df[df['Columns4']> 0]"
   ]
  },
  {
   "cell_type": "code",
   "execution_count": 74,
   "metadata": {},
   "outputs": [
    {
     "data": {
      "text/html": [
       "<div>\n",
       "<style scoped>\n",
       "    .dataframe tbody tr th:only-of-type {\n",
       "        vertical-align: middle;\n",
       "    }\n",
       "\n",
       "    .dataframe tbody tr th {\n",
       "        vertical-align: top;\n",
       "    }\n",
       "\n",
       "    .dataframe thead th {\n",
       "        text-align: right;\n",
       "    }\n",
       "</style>\n",
       "<table border=\"1\" class=\"dataframe\">\n",
       "  <thead>\n",
       "    <tr style=\"text-align: right;\">\n",
       "      <th></th>\n",
       "      <th>Columns1</th>\n",
       "      <th>Columns3</th>\n",
       "      <th>Columns4</th>\n",
       "      <th>Columns5</th>\n",
       "      <th>Columns6</th>\n",
       "      <th>Columns7</th>\n",
       "    </tr>\n",
       "  </thead>\n",
       "  <tbody>\n",
       "    <tr>\n",
       "      <th>A</th>\n",
       "      <td>0.147207</td>\n",
       "      <td>0.573086</td>\n",
       "      <td>0.491400</td>\n",
       "      <td>0.134344</td>\n",
       "      <td>1.143336</td>\n",
       "      <td>0.595721</td>\n",
       "    </tr>\n",
       "    <tr>\n",
       "      <th>B</th>\n",
       "      <td>1.973502</td>\n",
       "      <td>-1.046506</td>\n",
       "      <td>-0.340613</td>\n",
       "      <td>1.522025</td>\n",
       "      <td>-0.360441</td>\n",
       "      <td>1.874508</td>\n",
       "    </tr>\n",
       "    <tr>\n",
       "      <th>E</th>\n",
       "      <td>0.830552</td>\n",
       "      <td>1.231616</td>\n",
       "      <td>0.649414</td>\n",
       "      <td>0.761890</td>\n",
       "      <td>-1.487814</td>\n",
       "      <td>1.949416</td>\n",
       "    </tr>\n",
       "  </tbody>\n",
       "</table>\n",
       "</div>"
      ],
      "text/plain": [
       "   Columns1  Columns3  Columns4  Columns5  Columns6  Columns7\n",
       "A  0.147207  0.573086  0.491400  0.134344  1.143336  0.595721\n",
       "B  1.973502 -1.046506 -0.340613  1.522025 -0.360441  1.874508\n",
       "E  0.830552  1.231616  0.649414  0.761890 -1.487814  1.949416"
      ]
     },
     "execution_count": 74,
     "metadata": {},
     "output_type": "execute_result"
    }
   ],
   "source": [
    "df[df['Columns5']> 0]"
   ]
  },
  {
   "cell_type": "code",
   "execution_count": 75,
   "metadata": {},
   "outputs": [
    {
     "data": {
      "text/html": [
       "<div>\n",
       "<style scoped>\n",
       "    .dataframe tbody tr th:only-of-type {\n",
       "        vertical-align: middle;\n",
       "    }\n",
       "\n",
       "    .dataframe tbody tr th {\n",
       "        vertical-align: top;\n",
       "    }\n",
       "\n",
       "    .dataframe thead th {\n",
       "        text-align: right;\n",
       "    }\n",
       "</style>\n",
       "<table border=\"1\" class=\"dataframe\">\n",
       "  <thead>\n",
       "    <tr style=\"text-align: right;\">\n",
       "      <th></th>\n",
       "      <th>Columns1</th>\n",
       "      <th>Columns3</th>\n",
       "      <th>Columns4</th>\n",
       "      <th>Columns5</th>\n",
       "      <th>Columns6</th>\n",
       "      <th>Columns7</th>\n",
       "    </tr>\n",
       "  </thead>\n",
       "  <tbody>\n",
       "    <tr>\n",
       "      <th>A</th>\n",
       "      <td>0.147207</td>\n",
       "      <td>0.573086</td>\n",
       "      <td>0.491400</td>\n",
       "      <td>0.134344</td>\n",
       "      <td>1.143336</td>\n",
       "      <td>0.595721</td>\n",
       "    </tr>\n",
       "    <tr>\n",
       "      <th>B</th>\n",
       "      <td>1.973502</td>\n",
       "      <td>-1.046506</td>\n",
       "      <td>-0.340613</td>\n",
       "      <td>1.522025</td>\n",
       "      <td>-0.360441</td>\n",
       "      <td>1.874508</td>\n",
       "    </tr>\n",
       "    <tr>\n",
       "      <th>C</th>\n",
       "      <td>0.337196</td>\n",
       "      <td>0.279811</td>\n",
       "      <td>0.859284</td>\n",
       "      <td>-0.406596</td>\n",
       "      <td>1.465242</td>\n",
       "      <td>3.339753</td>\n",
       "    </tr>\n",
       "    <tr>\n",
       "      <th>E</th>\n",
       "      <td>0.830552</td>\n",
       "      <td>1.231616</td>\n",
       "      <td>0.649414</td>\n",
       "      <td>0.761890</td>\n",
       "      <td>-1.487814</td>\n",
       "      <td>1.949416</td>\n",
       "    </tr>\n",
       "  </tbody>\n",
       "</table>\n",
       "</div>"
      ],
      "text/plain": [
       "   Columns1  Columns3  Columns4  Columns5  Columns6  Columns7\n",
       "A  0.147207  0.573086  0.491400  0.134344  1.143336  0.595721\n",
       "B  1.973502 -1.046506 -0.340613  1.522025 -0.360441  1.874508\n",
       "C  0.337196  0.279811  0.859284 -0.406596  1.465242  3.339753\n",
       "E  0.830552  1.231616  0.649414  0.761890 -1.487814  1.949416"
      ]
     },
     "execution_count": 75,
     "metadata": {},
     "output_type": "execute_result"
    }
   ],
   "source": [
    "df[df['Columns1']> 0]"
   ]
  },
  {
   "cell_type": "markdown",
   "metadata": {},
   "source": [
    "\n",
    "To summarize, values ​​that values are 'True' are shown. For example, there are 4 lines in 'Column4' which means that line 5 is 'True'."
   ]
  },
  {
   "cell_type": "code",
   "execution_count": 76,
   "metadata": {},
   "outputs": [
    {
     "data": {
      "text/html": [
       "<div>\n",
       "<style scoped>\n",
       "    .dataframe tbody tr th:only-of-type {\n",
       "        vertical-align: middle;\n",
       "    }\n",
       "\n",
       "    .dataframe tbody tr th {\n",
       "        vertical-align: top;\n",
       "    }\n",
       "\n",
       "    .dataframe thead th {\n",
       "        text-align: right;\n",
       "    }\n",
       "</style>\n",
       "<table border=\"1\" class=\"dataframe\">\n",
       "  <thead>\n",
       "    <tr style=\"text-align: right;\">\n",
       "      <th></th>\n",
       "      <th>Columns1</th>\n",
       "      <th>Columns3</th>\n",
       "      <th>Columns4</th>\n",
       "      <th>Columns5</th>\n",
       "      <th>Columns6</th>\n",
       "      <th>Columns7</th>\n",
       "    </tr>\n",
       "  </thead>\n",
       "  <tbody>\n",
       "    <tr>\n",
       "      <th>A</th>\n",
       "      <td>0.147207</td>\n",
       "      <td>0.573086</td>\n",
       "      <td>0.491400</td>\n",
       "      <td>0.134344</td>\n",
       "      <td>1.143336</td>\n",
       "      <td>0.595721</td>\n",
       "    </tr>\n",
       "    <tr>\n",
       "      <th>C</th>\n",
       "      <td>0.337196</td>\n",
       "      <td>0.279811</td>\n",
       "      <td>0.859284</td>\n",
       "      <td>-0.406596</td>\n",
       "      <td>1.465242</td>\n",
       "      <td>3.339753</td>\n",
       "    </tr>\n",
       "    <tr>\n",
       "      <th>E</th>\n",
       "      <td>0.830552</td>\n",
       "      <td>1.231616</td>\n",
       "      <td>0.649414</td>\n",
       "      <td>0.761890</td>\n",
       "      <td>-1.487814</td>\n",
       "      <td>1.949416</td>\n",
       "    </tr>\n",
       "  </tbody>\n",
       "</table>\n",
       "</div>"
      ],
      "text/plain": [
       "   Columns1  Columns3  Columns4  Columns5  Columns6  Columns7\n",
       "A  0.147207  0.573086  0.491400  0.134344  1.143336  0.595721\n",
       "C  0.337196  0.279811  0.859284 -0.406596  1.465242  3.339753\n",
       "E  0.830552  1.231616  0.649414  0.761890 -1.487814  1.949416"
      ]
     },
     "execution_count": 76,
     "metadata": {},
     "output_type": "execute_result"
    }
   ],
   "source": [
    "df[(df['Columns1']> 0) & (df['Columns3']> 0)]"
   ]
  },
  {
   "cell_type": "code",
   "execution_count": 77,
   "metadata": {},
   "outputs": [
    {
     "data": {
      "text/html": [
       "<div>\n",
       "<style scoped>\n",
       "    .dataframe tbody tr th:only-of-type {\n",
       "        vertical-align: middle;\n",
       "    }\n",
       "\n",
       "    .dataframe tbody tr th {\n",
       "        vertical-align: top;\n",
       "    }\n",
       "\n",
       "    .dataframe thead th {\n",
       "        text-align: right;\n",
       "    }\n",
       "</style>\n",
       "<table border=\"1\" class=\"dataframe\">\n",
       "  <thead>\n",
       "    <tr style=\"text-align: right;\">\n",
       "      <th></th>\n",
       "      <th>Columns1</th>\n",
       "      <th>Columns3</th>\n",
       "      <th>Columns4</th>\n",
       "      <th>Columns5</th>\n",
       "      <th>Columns6</th>\n",
       "      <th>Columns7</th>\n",
       "    </tr>\n",
       "  </thead>\n",
       "  <tbody>\n",
       "    <tr>\n",
       "      <th>A</th>\n",
       "      <td>0.147207</td>\n",
       "      <td>0.573086</td>\n",
       "      <td>0.491400</td>\n",
       "      <td>0.134344</td>\n",
       "      <td>1.143336</td>\n",
       "      <td>0.595721</td>\n",
       "    </tr>\n",
       "    <tr>\n",
       "      <th>C</th>\n",
       "      <td>0.337196</td>\n",
       "      <td>0.279811</td>\n",
       "      <td>0.859284</td>\n",
       "      <td>-0.406596</td>\n",
       "      <td>1.465242</td>\n",
       "      <td>3.339753</td>\n",
       "    </tr>\n",
       "    <tr>\n",
       "      <th>E</th>\n",
       "      <td>0.830552</td>\n",
       "      <td>1.231616</td>\n",
       "      <td>0.649414</td>\n",
       "      <td>0.761890</td>\n",
       "      <td>-1.487814</td>\n",
       "      <td>1.949416</td>\n",
       "    </tr>\n",
       "  </tbody>\n",
       "</table>\n",
       "</div>"
      ],
      "text/plain": [
       "   Columns1  Columns3  Columns4  Columns5  Columns6  Columns7\n",
       "A  0.147207  0.573086  0.491400  0.134344  1.143336  0.595721\n",
       "C  0.337196  0.279811  0.859284 -0.406596  1.465242  3.339753\n",
       "E  0.830552  1.231616  0.649414  0.761890 -1.487814  1.949416"
      ]
     },
     "execution_count": 77,
     "metadata": {},
     "output_type": "execute_result"
    }
   ],
   "source": [
    "df[(df['Columns1']> 0) & (df['Columns3']> 0)]"
   ]
  },
  {
   "cell_type": "markdown",
   "metadata": {},
   "source": [
    "\n",
    "You can see various filtering exercises above. '&' Sign means 'and' and '|' sign means 'or'. If you use 'and' or 'or' instead of these signs, you will get an error. '&' Sign is made with 'SHIFT' and '6' keys and '|' sign is made with 'ALT GR' and '-'."
   ]
  },
  {
   "cell_type": "code",
   "execution_count": 78,
   "metadata": {},
   "outputs": [
    {
     "data": {
      "text/html": [
       "<div>\n",
       "<style scoped>\n",
       "    .dataframe tbody tr th:only-of-type {\n",
       "        vertical-align: middle;\n",
       "    }\n",
       "\n",
       "    .dataframe tbody tr th {\n",
       "        vertical-align: top;\n",
       "    }\n",
       "\n",
       "    .dataframe thead th {\n",
       "        text-align: right;\n",
       "    }\n",
       "</style>\n",
       "<table border=\"1\" class=\"dataframe\">\n",
       "  <thead>\n",
       "    <tr style=\"text-align: right;\">\n",
       "      <th></th>\n",
       "      <th>Columns1</th>\n",
       "      <th>Columns3</th>\n",
       "      <th>Columns4</th>\n",
       "      <th>Columns5</th>\n",
       "      <th>Columns6</th>\n",
       "      <th>Columns7</th>\n",
       "    </tr>\n",
       "  </thead>\n",
       "  <tbody>\n",
       "    <tr>\n",
       "      <th>A</th>\n",
       "      <td>0.147207</td>\n",
       "      <td>0.573086</td>\n",
       "      <td>0.491400</td>\n",
       "      <td>0.134344</td>\n",
       "      <td>1.143336</td>\n",
       "      <td>0.595721</td>\n",
       "    </tr>\n",
       "    <tr>\n",
       "      <th>B</th>\n",
       "      <td>1.973502</td>\n",
       "      <td>-1.046506</td>\n",
       "      <td>-0.340613</td>\n",
       "      <td>1.522025</td>\n",
       "      <td>-0.360441</td>\n",
       "      <td>1.874508</td>\n",
       "    </tr>\n",
       "    <tr>\n",
       "      <th>C</th>\n",
       "      <td>0.337196</td>\n",
       "      <td>0.279811</td>\n",
       "      <td>0.859284</td>\n",
       "      <td>-0.406596</td>\n",
       "      <td>1.465242</td>\n",
       "      <td>3.339753</td>\n",
       "    </tr>\n",
       "    <tr>\n",
       "      <th>D</th>\n",
       "      <td>-0.866759</td>\n",
       "      <td>-0.755706</td>\n",
       "      <td>2.038098</td>\n",
       "      <td>-0.596819</td>\n",
       "      <td>0.530597</td>\n",
       "      <td>-3.481389</td>\n",
       "    </tr>\n",
       "    <tr>\n",
       "      <th>E</th>\n",
       "      <td>0.830552</td>\n",
       "      <td>1.231616</td>\n",
       "      <td>0.649414</td>\n",
       "      <td>0.761890</td>\n",
       "      <td>-1.487814</td>\n",
       "      <td>1.949416</td>\n",
       "    </tr>\n",
       "  </tbody>\n",
       "</table>\n",
       "</div>"
      ],
      "text/plain": [
       "   Columns1  Columns3  Columns4  Columns5  Columns6  Columns7\n",
       "A  0.147207  0.573086  0.491400  0.134344  1.143336  0.595721\n",
       "B  1.973502 -1.046506 -0.340613  1.522025 -0.360441  1.874508\n",
       "C  0.337196  0.279811  0.859284 -0.406596  1.465242  3.339753\n",
       "D -0.866759 -0.755706  2.038098 -0.596819  0.530597 -3.481389\n",
       "E  0.830552  1.231616  0.649414  0.761890 -1.487814  1.949416"
      ]
     },
     "execution_count": 78,
     "metadata": {},
     "output_type": "execute_result"
    }
   ],
   "source": [
    "df"
   ]
  },
  {
   "cell_type": "code",
   "execution_count": 79,
   "metadata": {},
   "outputs": [
    {
     "data": {
      "text/html": [
       "<div>\n",
       "<style scoped>\n",
       "    .dataframe tbody tr th:only-of-type {\n",
       "        vertical-align: middle;\n",
       "    }\n",
       "\n",
       "    .dataframe tbody tr th {\n",
       "        vertical-align: top;\n",
       "    }\n",
       "\n",
       "    .dataframe thead th {\n",
       "        text-align: right;\n",
       "    }\n",
       "</style>\n",
       "<table border=\"1\" class=\"dataframe\">\n",
       "  <thead>\n",
       "    <tr style=\"text-align: right;\">\n",
       "      <th></th>\n",
       "      <th>Columns1</th>\n",
       "      <th>Columns3</th>\n",
       "      <th>Columns4</th>\n",
       "      <th>Columns5</th>\n",
       "      <th>Columns6</th>\n",
       "      <th>Columns7</th>\n",
       "    </tr>\n",
       "  </thead>\n",
       "  <tbody>\n",
       "    <tr>\n",
       "      <th>A</th>\n",
       "      <td>0.147207</td>\n",
       "      <td>0.573086</td>\n",
       "      <td>0.491400</td>\n",
       "      <td>0.134344</td>\n",
       "      <td>NewValue1</td>\n",
       "      <td>0.595721</td>\n",
       "    </tr>\n",
       "    <tr>\n",
       "      <th>B</th>\n",
       "      <td>1.973502</td>\n",
       "      <td>-1.046506</td>\n",
       "      <td>-0.340613</td>\n",
       "      <td>1.522025</td>\n",
       "      <td>NewValue2</td>\n",
       "      <td>1.874508</td>\n",
       "    </tr>\n",
       "    <tr>\n",
       "      <th>C</th>\n",
       "      <td>0.337196</td>\n",
       "      <td>0.279811</td>\n",
       "      <td>0.859284</td>\n",
       "      <td>-0.406596</td>\n",
       "      <td>NewValue3</td>\n",
       "      <td>3.339753</td>\n",
       "    </tr>\n",
       "    <tr>\n",
       "      <th>D</th>\n",
       "      <td>-0.866759</td>\n",
       "      <td>-0.755706</td>\n",
       "      <td>2.038098</td>\n",
       "      <td>-0.596819</td>\n",
       "      <td>NewValue4</td>\n",
       "      <td>-3.481389</td>\n",
       "    </tr>\n",
       "    <tr>\n",
       "      <th>E</th>\n",
       "      <td>0.830552</td>\n",
       "      <td>1.231616</td>\n",
       "      <td>0.649414</td>\n",
       "      <td>0.761890</td>\n",
       "      <td>NewValue5</td>\n",
       "      <td>1.949416</td>\n",
       "    </tr>\n",
       "  </tbody>\n",
       "</table>\n",
       "</div>"
      ],
      "text/plain": [
       "   Columns1  Columns3  Columns4  Columns5   Columns6  Columns7\n",
       "A  0.147207  0.573086  0.491400  0.134344  NewValue1  0.595721\n",
       "B  1.973502 -1.046506 -0.340613  1.522025  NewValue2  1.874508\n",
       "C  0.337196  0.279811  0.859284 -0.406596  NewValue3  3.339753\n",
       "D -0.866759 -0.755706  2.038098 -0.596819  NewValue4 -3.481389\n",
       "E  0.830552  1.231616  0.649414  0.761890  NewValue5  1.949416"
      ]
     },
     "execution_count": 79,
     "metadata": {},
     "output_type": "execute_result"
    }
   ],
   "source": [
    "df['Columns6'] = ['NewValue1','NewValue2','NewValue3','NewValue4','NewValue5']\n",
    "df"
   ]
  },
  {
   "cell_type": "markdown",
   "metadata": {},
   "source": [
    "\n",
    "As you can see, you can give 'string' value"
   ]
  },
  {
   "cell_type": "code",
   "execution_count": 80,
   "metadata": {},
   "outputs": [
    {
     "data": {
      "text/html": [
       "<div>\n",
       "<style scoped>\n",
       "    .dataframe tbody tr th:only-of-type {\n",
       "        vertical-align: middle;\n",
       "    }\n",
       "\n",
       "    .dataframe tbody tr th {\n",
       "        vertical-align: top;\n",
       "    }\n",
       "\n",
       "    .dataframe thead th {\n",
       "        text-align: right;\n",
       "    }\n",
       "</style>\n",
       "<table border=\"1\" class=\"dataframe\">\n",
       "  <thead>\n",
       "    <tr style=\"text-align: right;\">\n",
       "      <th></th>\n",
       "      <th>Columns1</th>\n",
       "      <th>Columns3</th>\n",
       "      <th>Columns4</th>\n",
       "      <th>Columns5</th>\n",
       "      <th>Columns7</th>\n",
       "    </tr>\n",
       "    <tr>\n",
       "      <th>Columns6</th>\n",
       "      <th></th>\n",
       "      <th></th>\n",
       "      <th></th>\n",
       "      <th></th>\n",
       "      <th></th>\n",
       "    </tr>\n",
       "  </thead>\n",
       "  <tbody>\n",
       "    <tr>\n",
       "      <th>NewValue1</th>\n",
       "      <td>0.147207</td>\n",
       "      <td>0.573086</td>\n",
       "      <td>0.491400</td>\n",
       "      <td>0.134344</td>\n",
       "      <td>0.595721</td>\n",
       "    </tr>\n",
       "    <tr>\n",
       "      <th>NewValue2</th>\n",
       "      <td>1.973502</td>\n",
       "      <td>-1.046506</td>\n",
       "      <td>-0.340613</td>\n",
       "      <td>1.522025</td>\n",
       "      <td>1.874508</td>\n",
       "    </tr>\n",
       "    <tr>\n",
       "      <th>NewValue3</th>\n",
       "      <td>0.337196</td>\n",
       "      <td>0.279811</td>\n",
       "      <td>0.859284</td>\n",
       "      <td>-0.406596</td>\n",
       "      <td>3.339753</td>\n",
       "    </tr>\n",
       "    <tr>\n",
       "      <th>NewValue4</th>\n",
       "      <td>-0.866759</td>\n",
       "      <td>-0.755706</td>\n",
       "      <td>2.038098</td>\n",
       "      <td>-0.596819</td>\n",
       "      <td>-3.481389</td>\n",
       "    </tr>\n",
       "    <tr>\n",
       "      <th>NewValue5</th>\n",
       "      <td>0.830552</td>\n",
       "      <td>1.231616</td>\n",
       "      <td>0.649414</td>\n",
       "      <td>0.761890</td>\n",
       "      <td>1.949416</td>\n",
       "    </tr>\n",
       "  </tbody>\n",
       "</table>\n",
       "</div>"
      ],
      "text/plain": [
       "           Columns1  Columns3  Columns4  Columns5  Columns7\n",
       "Columns6                                                   \n",
       "NewValue1  0.147207  0.573086  0.491400  0.134344  0.595721\n",
       "NewValue2  1.973502 -1.046506 -0.340613  1.522025  1.874508\n",
       "NewValue3  0.337196  0.279811  0.859284 -0.406596  3.339753\n",
       "NewValue4 -0.866759 -0.755706  2.038098 -0.596819 -3.481389\n",
       "NewValue5  0.830552  1.231616  0.649414  0.761890  1.949416"
      ]
     },
     "execution_count": 80,
     "metadata": {},
     "output_type": "execute_result"
    }
   ],
   "source": [
    "df.set_index('Columns6' , inplace = True)\n",
    "df"
   ]
  },
  {
   "cell_type": "code",
   "execution_count": 81,
   "metadata": {},
   "outputs": [
    {
     "data": {
      "text/plain": [
       "FrozenList(['Columns6'])"
      ]
     },
     "execution_count": 81,
     "metadata": {},
     "output_type": "execute_result"
    }
   ],
   "source": [
    "df.index.names"
   ]
  },
  {
   "cell_type": "code",
   "execution_count": 82,
   "metadata": {},
   "outputs": [
    {
     "data": {
      "text/plain": [
       "FrozenList([None])"
      ]
     },
     "execution_count": 82,
     "metadata": {},
     "output_type": "execute_result"
    }
   ],
   "source": [
    "df.columns.names"
   ]
  },
  {
   "cell_type": "markdown",
   "metadata": {},
   "source": [
    "\n",
    "In the first line above, we have permanently assigned the index name 'Column6'. In the 2nd line, we inquired about the title of the index. In the last code, it queries the column name with the same logic and returns 'None' because we cannot assign it."
   ]
  },
  {
   "cell_type": "markdown",
   "metadata": {},
   "source": [
    "<a id=\"15\"></a> <br>\n",
    "# Defining DataFrames as Multi Index:"
   ]
  },
  {
   "cell_type": "markdown",
   "metadata": {},
   "source": [
    "\n",
    "Multi index, as the name implies, is used in cases where there is a large number of indexes and is grouped as a basis."
   ]
  },
  {
   "cell_type": "code",
   "execution_count": 83,
   "metadata": {},
   "outputs": [
    {
     "data": {
      "text/plain": [
       "[('Group1', 'Index1'),\n",
       " ('Group1', 'Index2'),\n",
       " ('Group1', 'Index3'),\n",
       " ('Group2', 'Index1'),\n",
       " ('Group2', 'Index2'),\n",
       " ('Group2', 'Index3'),\n",
       " ('Group3', 'Index1'),\n",
       " ('Group3', 'Index2'),\n",
       " ('Group3', 'Index3')]"
      ]
     },
     "execution_count": 83,
     "metadata": {},
     "output_type": "execute_result"
    }
   ],
   "source": [
    "OuterIndex = ['Group1','Group1','Group1','Group2','Group2','Group2','Group3','Group3','Group3']\n",
    "InnerIndex = ['Index1','Index2','Index3','Index1','Index2','Index3','Index1','Index2','Index3']\n",
    "list(zip(OuterIndex,InnerIndex))"
   ]
  },
  {
   "cell_type": "code",
   "execution_count": 84,
   "metadata": {},
   "outputs": [
    {
     "data": {
      "text/plain": [
       "MultiIndex([('Group1', 'Index1'),\n",
       "            ('Group1', 'Index2'),\n",
       "            ('Group1', 'Index3'),\n",
       "            ('Group2', 'Index1'),\n",
       "            ('Group2', 'Index2'),\n",
       "            ('Group2', 'Index3'),\n",
       "            ('Group3', 'Index1'),\n",
       "            ('Group3', 'Index2'),\n",
       "            ('Group3', 'Index3')],\n",
       "           )"
      ]
     },
     "execution_count": 84,
     "metadata": {},
     "output_type": "execute_result"
    }
   ],
   "source": [
    "hierarchy = list(zip(OuterIndex,InnerIndex))\n",
    "hierarchy = pd.MultiIndex.from_tuples(hierarchy)\n",
    "hierarchy"
   ]
  },
  {
   "cell_type": "code",
   "execution_count": 85,
   "metadata": {},
   "outputs": [
    {
     "data": {
      "text/html": [
       "<div>\n",
       "<style scoped>\n",
       "    .dataframe tbody tr th:only-of-type {\n",
       "        vertical-align: middle;\n",
       "    }\n",
       "\n",
       "    .dataframe tbody tr th {\n",
       "        vertical-align: top;\n",
       "    }\n",
       "\n",
       "    .dataframe thead th {\n",
       "        text-align: right;\n",
       "    }\n",
       "</style>\n",
       "<table border=\"1\" class=\"dataframe\">\n",
       "  <thead>\n",
       "    <tr style=\"text-align: right;\">\n",
       "      <th></th>\n",
       "      <th></th>\n",
       "      <th>Column1</th>\n",
       "      <th>Colum2</th>\n",
       "      <th>Column3</th>\n",
       "    </tr>\n",
       "  </thead>\n",
       "  <tbody>\n",
       "    <tr>\n",
       "      <th rowspan=\"3\" valign=\"top\">Group1</th>\n",
       "      <th>Index1</th>\n",
       "      <td>-1.816691</td>\n",
       "      <td>2.238560</td>\n",
       "      <td>0.414793</td>\n",
       "    </tr>\n",
       "    <tr>\n",
       "      <th>Index2</th>\n",
       "      <td>-0.147647</td>\n",
       "      <td>-0.556999</td>\n",
       "      <td>0.767274</td>\n",
       "    </tr>\n",
       "    <tr>\n",
       "      <th>Index3</th>\n",
       "      <td>-1.219413</td>\n",
       "      <td>-0.008245</td>\n",
       "      <td>-1.186013</td>\n",
       "    </tr>\n",
       "    <tr>\n",
       "      <th rowspan=\"3\" valign=\"top\">Group2</th>\n",
       "      <th>Index1</th>\n",
       "      <td>-0.518657</td>\n",
       "      <td>0.472449</td>\n",
       "      <td>-1.205321</td>\n",
       "    </tr>\n",
       "    <tr>\n",
       "      <th>Index2</th>\n",
       "      <td>-0.454844</td>\n",
       "      <td>1.151974</td>\n",
       "      <td>-2.468956</td>\n",
       "    </tr>\n",
       "    <tr>\n",
       "      <th>Index3</th>\n",
       "      <td>0.513007</td>\n",
       "      <td>-1.114757</td>\n",
       "      <td>-0.200094</td>\n",
       "    </tr>\n",
       "    <tr>\n",
       "      <th rowspan=\"3\" valign=\"top\">Group3</th>\n",
       "      <th>Index1</th>\n",
       "      <td>-0.593100</td>\n",
       "      <td>-0.080408</td>\n",
       "      <td>0.263853</td>\n",
       "    </tr>\n",
       "    <tr>\n",
       "      <th>Index2</th>\n",
       "      <td>0.055648</td>\n",
       "      <td>0.716449</td>\n",
       "      <td>-1.864696</td>\n",
       "    </tr>\n",
       "    <tr>\n",
       "      <th>Index3</th>\n",
       "      <td>0.459192</td>\n",
       "      <td>-0.080693</td>\n",
       "      <td>0.583150</td>\n",
       "    </tr>\n",
       "  </tbody>\n",
       "</table>\n",
       "</div>"
      ],
      "text/plain": [
       "                Column1    Colum2   Column3\n",
       "Group1 Index1 -1.816691  2.238560  0.414793\n",
       "       Index2 -0.147647 -0.556999  0.767274\n",
       "       Index3 -1.219413 -0.008245 -1.186013\n",
       "Group2 Index1 -0.518657  0.472449 -1.205321\n",
       "       Index2 -0.454844  1.151974 -2.468956\n",
       "       Index3  0.513007 -1.114757 -0.200094\n",
       "Group3 Index1 -0.593100 -0.080408  0.263853\n",
       "       Index2  0.055648  0.716449 -1.864696\n",
       "       Index3  0.459192 -0.080693  0.583150"
      ]
     },
     "execution_count": 85,
     "metadata": {},
     "output_type": "execute_result"
    }
   ],
   "source": [
    "df = pd.DataFrame(randn(9,3),hierarchy,columns = ['Column1','Colum2','Column3'])\n",
    "df"
   ]
  },
  {
   "cell_type": "markdown",
   "metadata": {},
   "source": [
    "\n",
    "In the 1st code, we created 2 indexes and combined them with the 'zip' function. We used the list to do this, but you can use 'Tuple' and 'Dict'. In the 2nd code, we synchronized this to 'hierarchy'. Then, we created Multi index with 'pd.MultiIndex.from_tuples ()' feature. In the last code, we assigned random values ​​with the 'rand ()' function and provided the column information. And as we have seen, we obtained Multi Index DataFrame with 'Group', 'Index' and 'Column' values."
   ]
  },
  {
   "cell_type": "code",
   "execution_count": 86,
   "metadata": {},
   "outputs": [
    {
     "data": {
      "text/plain": [
       "Group1  Index1   -1.816691\n",
       "        Index2   -0.147647\n",
       "        Index3   -1.219413\n",
       "Group2  Index1   -0.518657\n",
       "        Index2   -0.454844\n",
       "        Index3    0.513007\n",
       "Group3  Index1   -0.593100\n",
       "        Index2    0.055648\n",
       "        Index3    0.459192\n",
       "Name: Column1, dtype: float64"
      ]
     },
     "execution_count": 86,
     "metadata": {},
     "output_type": "execute_result"
    }
   ],
   "source": [
    "df['Column1']"
   ]
  },
  {
   "cell_type": "code",
   "execution_count": 87,
   "metadata": {},
   "outputs": [
    {
     "data": {
      "text/html": [
       "<div>\n",
       "<style scoped>\n",
       "    .dataframe tbody tr th:only-of-type {\n",
       "        vertical-align: middle;\n",
       "    }\n",
       "\n",
       "    .dataframe tbody tr th {\n",
       "        vertical-align: top;\n",
       "    }\n",
       "\n",
       "    .dataframe thead th {\n",
       "        text-align: right;\n",
       "    }\n",
       "</style>\n",
       "<table border=\"1\" class=\"dataframe\">\n",
       "  <thead>\n",
       "    <tr style=\"text-align: right;\">\n",
       "      <th></th>\n",
       "      <th>Column1</th>\n",
       "      <th>Colum2</th>\n",
       "      <th>Column3</th>\n",
       "    </tr>\n",
       "  </thead>\n",
       "  <tbody>\n",
       "    <tr>\n",
       "      <th>Index1</th>\n",
       "      <td>-1.816691</td>\n",
       "      <td>2.238560</td>\n",
       "      <td>0.414793</td>\n",
       "    </tr>\n",
       "    <tr>\n",
       "      <th>Index2</th>\n",
       "      <td>-0.147647</td>\n",
       "      <td>-0.556999</td>\n",
       "      <td>0.767274</td>\n",
       "    </tr>\n",
       "    <tr>\n",
       "      <th>Index3</th>\n",
       "      <td>-1.219413</td>\n",
       "      <td>-0.008245</td>\n",
       "      <td>-1.186013</td>\n",
       "    </tr>\n",
       "  </tbody>\n",
       "</table>\n",
       "</div>"
      ],
      "text/plain": [
       "         Column1    Colum2   Column3\n",
       "Index1 -1.816691  2.238560  0.414793\n",
       "Index2 -0.147647 -0.556999  0.767274\n",
       "Index3 -1.219413 -0.008245 -1.186013"
      ]
     },
     "execution_count": 87,
     "metadata": {},
     "output_type": "execute_result"
    }
   ],
   "source": [
    "df.loc['Group1']"
   ]
  },
  {
   "cell_type": "code",
   "execution_count": 88,
   "metadata": {},
   "outputs": [
    {
     "data": {
      "text/html": [
       "<div>\n",
       "<style scoped>\n",
       "    .dataframe tbody tr th:only-of-type {\n",
       "        vertical-align: middle;\n",
       "    }\n",
       "\n",
       "    .dataframe tbody tr th {\n",
       "        vertical-align: top;\n",
       "    }\n",
       "\n",
       "    .dataframe thead th {\n",
       "        text-align: right;\n",
       "    }\n",
       "</style>\n",
       "<table border=\"1\" class=\"dataframe\">\n",
       "  <thead>\n",
       "    <tr style=\"text-align: right;\">\n",
       "      <th></th>\n",
       "      <th></th>\n",
       "      <th>Column1</th>\n",
       "      <th>Colum2</th>\n",
       "      <th>Column3</th>\n",
       "    </tr>\n",
       "  </thead>\n",
       "  <tbody>\n",
       "    <tr>\n",
       "      <th rowspan=\"3\" valign=\"top\">Group1</th>\n",
       "      <th>Index1</th>\n",
       "      <td>-1.816691</td>\n",
       "      <td>2.238560</td>\n",
       "      <td>0.414793</td>\n",
       "    </tr>\n",
       "    <tr>\n",
       "      <th>Index2</th>\n",
       "      <td>-0.147647</td>\n",
       "      <td>-0.556999</td>\n",
       "      <td>0.767274</td>\n",
       "    </tr>\n",
       "    <tr>\n",
       "      <th>Index3</th>\n",
       "      <td>-1.219413</td>\n",
       "      <td>-0.008245</td>\n",
       "      <td>-1.186013</td>\n",
       "    </tr>\n",
       "    <tr>\n",
       "      <th rowspan=\"3\" valign=\"top\">Group2</th>\n",
       "      <th>Index1</th>\n",
       "      <td>-0.518657</td>\n",
       "      <td>0.472449</td>\n",
       "      <td>-1.205321</td>\n",
       "    </tr>\n",
       "    <tr>\n",
       "      <th>Index2</th>\n",
       "      <td>-0.454844</td>\n",
       "      <td>1.151974</td>\n",
       "      <td>-2.468956</td>\n",
       "    </tr>\n",
       "    <tr>\n",
       "      <th>Index3</th>\n",
       "      <td>0.513007</td>\n",
       "      <td>-1.114757</td>\n",
       "      <td>-0.200094</td>\n",
       "    </tr>\n",
       "  </tbody>\n",
       "</table>\n",
       "</div>"
      ],
      "text/plain": [
       "                Column1    Colum2   Column3\n",
       "Group1 Index1 -1.816691  2.238560  0.414793\n",
       "       Index2 -0.147647 -0.556999  0.767274\n",
       "       Index3 -1.219413 -0.008245 -1.186013\n",
       "Group2 Index1 -0.518657  0.472449 -1.205321\n",
       "       Index2 -0.454844  1.151974 -2.468956\n",
       "       Index3  0.513007 -1.114757 -0.200094"
      ]
     },
     "execution_count": 88,
     "metadata": {},
     "output_type": "execute_result"
    }
   ],
   "source": [
    "df.loc[['Group1','Group2']]"
   ]
  },
  {
   "cell_type": "markdown",
   "metadata": {},
   "source": [
    "\n",
    "As you can see above, you can call a certain part like this."
   ]
  },
  {
   "cell_type": "code",
   "execution_count": 89,
   "metadata": {},
   "outputs": [
    {
     "data": {
      "text/html": [
       "<div>\n",
       "<style scoped>\n",
       "    .dataframe tbody tr th:only-of-type {\n",
       "        vertical-align: middle;\n",
       "    }\n",
       "\n",
       "    .dataframe tbody tr th {\n",
       "        vertical-align: top;\n",
       "    }\n",
       "\n",
       "    .dataframe thead th {\n",
       "        text-align: right;\n",
       "    }\n",
       "</style>\n",
       "<table border=\"1\" class=\"dataframe\">\n",
       "  <thead>\n",
       "    <tr style=\"text-align: right;\">\n",
       "      <th></th>\n",
       "      <th>Column1</th>\n",
       "      <th>Colum2</th>\n",
       "      <th>Column3</th>\n",
       "    </tr>\n",
       "  </thead>\n",
       "  <tbody>\n",
       "    <tr>\n",
       "      <th>Index1</th>\n",
       "      <td>-1.816691</td>\n",
       "      <td>2.238560</td>\n",
       "      <td>0.414793</td>\n",
       "    </tr>\n",
       "    <tr>\n",
       "      <th>Index2</th>\n",
       "      <td>-0.147647</td>\n",
       "      <td>-0.556999</td>\n",
       "      <td>0.767274</td>\n",
       "    </tr>\n",
       "    <tr>\n",
       "      <th>Index3</th>\n",
       "      <td>-1.219413</td>\n",
       "      <td>-0.008245</td>\n",
       "      <td>-1.186013</td>\n",
       "    </tr>\n",
       "  </tbody>\n",
       "</table>\n",
       "</div>"
      ],
      "text/plain": [
       "         Column1    Colum2   Column3\n",
       "Index1 -1.816691  2.238560  0.414793\n",
       "Index2 -0.147647 -0.556999  0.767274\n",
       "Index3 -1.219413 -0.008245 -1.186013"
      ]
     },
     "execution_count": 89,
     "metadata": {},
     "output_type": "execute_result"
    }
   ],
   "source": [
    "df.loc['Group1']"
   ]
  },
  {
   "cell_type": "code",
   "execution_count": 90,
   "metadata": {},
   "outputs": [
    {
     "data": {
      "text/html": [
       "<div>\n",
       "<style scoped>\n",
       "    .dataframe tbody tr th:only-of-type {\n",
       "        vertical-align: middle;\n",
       "    }\n",
       "\n",
       "    .dataframe tbody tr th {\n",
       "        vertical-align: top;\n",
       "    }\n",
       "\n",
       "    .dataframe thead th {\n",
       "        text-align: right;\n",
       "    }\n",
       "</style>\n",
       "<table border=\"1\" class=\"dataframe\">\n",
       "  <thead>\n",
       "    <tr style=\"text-align: right;\">\n",
       "      <th></th>\n",
       "      <th></th>\n",
       "      <th>Column1</th>\n",
       "      <th>Colum2</th>\n",
       "      <th>Column3</th>\n",
       "    </tr>\n",
       "  </thead>\n",
       "  <tbody>\n",
       "    <tr>\n",
       "      <th rowspan=\"3\" valign=\"top\">Group1</th>\n",
       "      <th>Index1</th>\n",
       "      <td>-1.816691</td>\n",
       "      <td>2.238560</td>\n",
       "      <td>0.414793</td>\n",
       "    </tr>\n",
       "    <tr>\n",
       "      <th>Index2</th>\n",
       "      <td>-0.147647</td>\n",
       "      <td>-0.556999</td>\n",
       "      <td>0.767274</td>\n",
       "    </tr>\n",
       "    <tr>\n",
       "      <th>Index3</th>\n",
       "      <td>-1.219413</td>\n",
       "      <td>-0.008245</td>\n",
       "      <td>-1.186013</td>\n",
       "    </tr>\n",
       "    <tr>\n",
       "      <th rowspan=\"3\" valign=\"top\">Group2</th>\n",
       "      <th>Index1</th>\n",
       "      <td>-0.518657</td>\n",
       "      <td>0.472449</td>\n",
       "      <td>-1.205321</td>\n",
       "    </tr>\n",
       "    <tr>\n",
       "      <th>Index2</th>\n",
       "      <td>-0.454844</td>\n",
       "      <td>1.151974</td>\n",
       "      <td>-2.468956</td>\n",
       "    </tr>\n",
       "    <tr>\n",
       "      <th>Index3</th>\n",
       "      <td>0.513007</td>\n",
       "      <td>-1.114757</td>\n",
       "      <td>-0.200094</td>\n",
       "    </tr>\n",
       "  </tbody>\n",
       "</table>\n",
       "</div>"
      ],
      "text/plain": [
       "                Column1    Colum2   Column3\n",
       "Group1 Index1 -1.816691  2.238560  0.414793\n",
       "       Index2 -0.147647 -0.556999  0.767274\n",
       "       Index3 -1.219413 -0.008245 -1.186013\n",
       "Group2 Index1 -0.518657  0.472449 -1.205321\n",
       "       Index2 -0.454844  1.151974 -2.468956\n",
       "       Index3  0.513007 -1.114757 -0.200094"
      ]
     },
     "execution_count": 90,
     "metadata": {},
     "output_type": "execute_result"
    }
   ],
   "source": [
    "df.loc[['Group1','Group2']]"
   ]
  },
  {
   "cell_type": "code",
   "execution_count": 91,
   "metadata": {},
   "outputs": [
    {
     "data": {
      "text/plain": [
       "Column1   -1.816691\n",
       "Colum2     2.238560\n",
       "Column3    0.414793\n",
       "Name: Index1, dtype: float64"
      ]
     },
     "execution_count": 91,
     "metadata": {},
     "output_type": "execute_result"
    }
   ],
   "source": [
    "df.loc['Group1'].loc['Index1']"
   ]
  },
  {
   "cell_type": "markdown",
   "metadata": {},
   "source": [
    "\n",
    "Values ​​such as 'Group', 'Column' and 'Index' can be called this way, and you can also call multiple and different types."
   ]
  },
  {
   "cell_type": "code",
   "execution_count": 92,
   "metadata": {},
   "outputs": [
    {
     "data": {
      "text/plain": [
       "-1.8166909020678856"
      ]
     },
     "execution_count": 92,
     "metadata": {},
     "output_type": "execute_result"
    }
   ],
   "source": [
    "df.loc['Group1'].loc['Index1']['Column1']"
   ]
  },
  {
   "cell_type": "markdown",
   "metadata": {},
   "source": [
    "\n",
    "For special data, you can handle your work with codes similar to the above."
   ]
  },
  {
   "cell_type": "code",
   "execution_count": 93,
   "metadata": {},
   "outputs": [
    {
     "data": {
      "text/html": [
       "<div>\n",
       "<style scoped>\n",
       "    .dataframe tbody tr th:only-of-type {\n",
       "        vertical-align: middle;\n",
       "    }\n",
       "\n",
       "    .dataframe tbody tr th {\n",
       "        vertical-align: top;\n",
       "    }\n",
       "\n",
       "    .dataframe thead th {\n",
       "        text-align: right;\n",
       "    }\n",
       "</style>\n",
       "<table border=\"1\" class=\"dataframe\">\n",
       "  <thead>\n",
       "    <tr style=\"text-align: right;\">\n",
       "      <th></th>\n",
       "      <th></th>\n",
       "      <th>Column1</th>\n",
       "      <th>Colum2</th>\n",
       "      <th>Column3</th>\n",
       "    </tr>\n",
       "    <tr>\n",
       "      <th>Groups</th>\n",
       "      <th>Indexes</th>\n",
       "      <th></th>\n",
       "      <th></th>\n",
       "      <th></th>\n",
       "    </tr>\n",
       "  </thead>\n",
       "  <tbody>\n",
       "    <tr>\n",
       "      <th rowspan=\"3\" valign=\"top\">Group1</th>\n",
       "      <th>Index1</th>\n",
       "      <td>-1.816691</td>\n",
       "      <td>2.238560</td>\n",
       "      <td>0.414793</td>\n",
       "    </tr>\n",
       "    <tr>\n",
       "      <th>Index2</th>\n",
       "      <td>-0.147647</td>\n",
       "      <td>-0.556999</td>\n",
       "      <td>0.767274</td>\n",
       "    </tr>\n",
       "    <tr>\n",
       "      <th>Index3</th>\n",
       "      <td>-1.219413</td>\n",
       "      <td>-0.008245</td>\n",
       "      <td>-1.186013</td>\n",
       "    </tr>\n",
       "    <tr>\n",
       "      <th rowspan=\"3\" valign=\"top\">Group2</th>\n",
       "      <th>Index1</th>\n",
       "      <td>-0.518657</td>\n",
       "      <td>0.472449</td>\n",
       "      <td>-1.205321</td>\n",
       "    </tr>\n",
       "    <tr>\n",
       "      <th>Index2</th>\n",
       "      <td>-0.454844</td>\n",
       "      <td>1.151974</td>\n",
       "      <td>-2.468956</td>\n",
       "    </tr>\n",
       "    <tr>\n",
       "      <th>Index3</th>\n",
       "      <td>0.513007</td>\n",
       "      <td>-1.114757</td>\n",
       "      <td>-0.200094</td>\n",
       "    </tr>\n",
       "    <tr>\n",
       "      <th rowspan=\"3\" valign=\"top\">Group3</th>\n",
       "      <th>Index1</th>\n",
       "      <td>-0.593100</td>\n",
       "      <td>-0.080408</td>\n",
       "      <td>0.263853</td>\n",
       "    </tr>\n",
       "    <tr>\n",
       "      <th>Index2</th>\n",
       "      <td>0.055648</td>\n",
       "      <td>0.716449</td>\n",
       "      <td>-1.864696</td>\n",
       "    </tr>\n",
       "    <tr>\n",
       "      <th>Index3</th>\n",
       "      <td>0.459192</td>\n",
       "      <td>-0.080693</td>\n",
       "      <td>0.583150</td>\n",
       "    </tr>\n",
       "  </tbody>\n",
       "</table>\n",
       "</div>"
      ],
      "text/plain": [
       "                 Column1    Colum2   Column3\n",
       "Groups Indexes                              \n",
       "Group1 Index1  -1.816691  2.238560  0.414793\n",
       "       Index2  -0.147647 -0.556999  0.767274\n",
       "       Index3  -1.219413 -0.008245 -1.186013\n",
       "Group2 Index1  -0.518657  0.472449 -1.205321\n",
       "       Index2  -0.454844  1.151974 -2.468956\n",
       "       Index3   0.513007 -1.114757 -0.200094\n",
       "Group3 Index1  -0.593100 -0.080408  0.263853\n",
       "       Index2   0.055648  0.716449 -1.864696\n",
       "       Index3   0.459192 -0.080693  0.583150"
      ]
     },
     "execution_count": 93,
     "metadata": {},
     "output_type": "execute_result"
    }
   ],
   "source": [
    "df.index.names = ['Groups','Indexes']\n",
    "df"
   ]
  },
  {
   "cell_type": "markdown",
   "metadata": {},
   "source": [
    "\n",
    "Learning index names can also query columns."
   ]
  },
  {
   "cell_type": "code",
   "execution_count": 94,
   "metadata": {},
   "outputs": [
    {
     "data": {
      "text/html": [
       "<div>\n",
       "<style scoped>\n",
       "    .dataframe tbody tr th:only-of-type {\n",
       "        vertical-align: middle;\n",
       "    }\n",
       "\n",
       "    .dataframe tbody tr th {\n",
       "        vertical-align: top;\n",
       "    }\n",
       "\n",
       "    .dataframe thead th {\n",
       "        text-align: right;\n",
       "    }\n",
       "</style>\n",
       "<table border=\"1\" class=\"dataframe\">\n",
       "  <thead>\n",
       "    <tr style=\"text-align: right;\">\n",
       "      <th></th>\n",
       "      <th>Column1</th>\n",
       "      <th>Colum2</th>\n",
       "      <th>Column3</th>\n",
       "    </tr>\n",
       "    <tr>\n",
       "      <th>Indexes</th>\n",
       "      <th></th>\n",
       "      <th></th>\n",
       "      <th></th>\n",
       "    </tr>\n",
       "  </thead>\n",
       "  <tbody>\n",
       "    <tr>\n",
       "      <th>Index1</th>\n",
       "      <td>-1.816691</td>\n",
       "      <td>2.238560</td>\n",
       "      <td>0.414793</td>\n",
       "    </tr>\n",
       "    <tr>\n",
       "      <th>Index2</th>\n",
       "      <td>-0.147647</td>\n",
       "      <td>-0.556999</td>\n",
       "      <td>0.767274</td>\n",
       "    </tr>\n",
       "    <tr>\n",
       "      <th>Index3</th>\n",
       "      <td>-1.219413</td>\n",
       "      <td>-0.008245</td>\n",
       "      <td>-1.186013</td>\n",
       "    </tr>\n",
       "  </tbody>\n",
       "</table>\n",
       "</div>"
      ],
      "text/plain": [
       "          Column1    Colum2   Column3\n",
       "Indexes                              \n",
       "Index1  -1.816691  2.238560  0.414793\n",
       "Index2  -0.147647 -0.556999  0.767274\n",
       "Index3  -1.219413 -0.008245 -1.186013"
      ]
     },
     "execution_count": 94,
     "metadata": {},
     "output_type": "execute_result"
    }
   ],
   "source": [
    "df.xs('Group1') # df.xs('Group1') = df.loc['Group1']"
   ]
  },
  {
   "cell_type": "markdown",
   "metadata": {},
   "source": [
    "\n",
    "Let's talk a little about the 'xs' function. You see that it is equal to a code we know above. The 'xs' function can perform functional functions such as 'loc', 'iloc', and it also provides us good advantages."
   ]
  },
  {
   "cell_type": "code",
   "execution_count": 95,
   "metadata": {},
   "outputs": [
    {
     "data": {
      "text/plain": [
       "Column1   -1.816691\n",
       "Colum2     2.238560\n",
       "Column3    0.414793\n",
       "Name: Index1, dtype: float64"
      ]
     },
     "execution_count": 95,
     "metadata": {},
     "output_type": "execute_result"
    }
   ],
   "source": [
    "df.xs('Group1').xs('Index1')"
   ]
  },
  {
   "cell_type": "code",
   "execution_count": 96,
   "metadata": {},
   "outputs": [
    {
     "data": {
      "text/plain": [
       "-1.8166909020678856"
      ]
     },
     "execution_count": 96,
     "metadata": {},
     "output_type": "execute_result"
    }
   ],
   "source": [
    "df.xs('Group1').xs('Index1').xs('Column1')"
   ]
  },
  {
   "cell_type": "markdown",
   "metadata": {},
   "source": [
    "\n",
    "Before the first code, 'Group' and then 'Index' value are given. Because the 'xs' function 'Group', 'Index' works respectively. This explains it in second code\n",
    "\n",
    "\n",
    "The advantage of the 'xs' function is as follows"
   ]
  },
  {
   "cell_type": "code",
   "execution_count": 97,
   "metadata": {},
   "outputs": [
    {
     "data": {
      "text/html": [
       "<div>\n",
       "<style scoped>\n",
       "    .dataframe tbody tr th:only-of-type {\n",
       "        vertical-align: middle;\n",
       "    }\n",
       "\n",
       "    .dataframe tbody tr th {\n",
       "        vertical-align: top;\n",
       "    }\n",
       "\n",
       "    .dataframe thead th {\n",
       "        text-align: right;\n",
       "    }\n",
       "</style>\n",
       "<table border=\"1\" class=\"dataframe\">\n",
       "  <thead>\n",
       "    <tr style=\"text-align: right;\">\n",
       "      <th></th>\n",
       "      <th>Column1</th>\n",
       "      <th>Colum2</th>\n",
       "      <th>Column3</th>\n",
       "    </tr>\n",
       "    <tr>\n",
       "      <th>Groups</th>\n",
       "      <th></th>\n",
       "      <th></th>\n",
       "      <th></th>\n",
       "    </tr>\n",
       "  </thead>\n",
       "  <tbody>\n",
       "    <tr>\n",
       "      <th>Group1</th>\n",
       "      <td>-1.816691</td>\n",
       "      <td>2.238560</td>\n",
       "      <td>0.414793</td>\n",
       "    </tr>\n",
       "    <tr>\n",
       "      <th>Group2</th>\n",
       "      <td>-0.518657</td>\n",
       "      <td>0.472449</td>\n",
       "      <td>-1.205321</td>\n",
       "    </tr>\n",
       "    <tr>\n",
       "      <th>Group3</th>\n",
       "      <td>-0.593100</td>\n",
       "      <td>-0.080408</td>\n",
       "      <td>0.263853</td>\n",
       "    </tr>\n",
       "  </tbody>\n",
       "</table>\n",
       "</div>"
      ],
      "text/plain": [
       "         Column1    Colum2   Column3\n",
       "Groups                              \n",
       "Group1 -1.816691  2.238560  0.414793\n",
       "Group2 -0.518657  0.472449 -1.205321\n",
       "Group3 -0.593100 -0.080408  0.263853"
      ]
     },
     "execution_count": 97,
     "metadata": {},
     "output_type": "execute_result"
    }
   ],
   "source": [
    "df.xs('Index1', level = 'Indexes')"
   ]
  },
  {
   "cell_type": "code",
   "execution_count": 98,
   "metadata": {},
   "outputs": [
    {
     "data": {
      "text/plain": [
       "Groups\n",
       "Group1   -1.816691\n",
       "Group2   -0.518657\n",
       "Group3   -0.593100\n",
       "Name: Column1, dtype: float64"
      ]
     },
     "execution_count": 98,
     "metadata": {},
     "output_type": "execute_result"
    }
   ],
   "source": [
    "df.xs('Index1', level = 'Indexes')['Column1']"
   ]
  }
 ],
 "metadata": {
  "kernelspec": {
   "display_name": "Python 3 (ipykernel)",
   "language": "python",
   "name": "python3"
  },
  "language_info": {
   "codemirror_mode": {
    "name": "ipython",
    "version": 3
   },
   "file_extension": ".py",
   "mimetype": "text/x-python",
   "name": "python",
   "nbconvert_exporter": "python",
   "pygments_lexer": "ipython3",
   "version": "3.8.10"
  }
 },
 "nbformat": 4,
 "nbformat_minor": 1
}
