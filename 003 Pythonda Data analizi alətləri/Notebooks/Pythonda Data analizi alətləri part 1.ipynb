{
  "nbformat": 4,
  "nbformat_minor": 0,
  "metadata": {
    "colab": {
      "provenance": []
    },
    "kernelspec": {
      "name": "python3",
      "display_name": "Python 3"
    },
    "language_info": {
      "name": "python"
    }
  },
  "cells": [
    {
      "cell_type": "markdown",
      "source": [
        "# **Numpy**\n",
        "&emsp;Numpy - Bu kitabxana çoxölçülü massiv və matrislərdə işləməyimizdə bizə kömək edir. Daha az kodla daha effektiv əməliyyatlara imkan verir.<br>&emsp;Numpy -ın obyekti (işçi elementi) ndarray-dır. <br>\n",
        "ndarray dedikdə burada burada n = 1, n = 2, n = 3 , n = 4 və s. ola bilər.\n",
        "&emsp;Numpy - də olan massivlər əslində hər biri listdir. Standart pythonda massivlər dinamik olaraq böyüyə bilir.<br>\n",
        "Numpy modulu daxilində isə konkret ölçü verilməlidir. \n",
        "Əgər Numpyda biz ölçünü dəyişsək yeni bir massiv yaranar, köhnəsi isə silinər.\n",
        "Numpy əməliyyatlarının sürətli olması onun C və C++ ilə yazılması və dataların eyni RAM hücrə blok seximində saxlanmasıdır. Standart Pythonda isə massiv (matris) dataları fərqli yerlərdə saxlana bilir.\n",
        "Bu fərqi böyük əməllərdə daha yaxşı hiss etmək olur. Numpyda massivlərin sürəti Standart Pythonda olan massivlərin sürətindən **50 dəfə** çoxdur.\n",
        "Sadə nümunələrə baxaq:\n"
      ],
      "metadata": {
        "id": "KpkfvoV5PwRl"
      }
    },
    {
      "cell_type": "code",
      "execution_count": null,
      "metadata": {
        "colab": {
          "base_uri": "https://localhost:8080/"
        },
        "id": "nazcMPLuPiQm",
        "outputId": "1485d600-ca52-49dc-8f35-d0ecf948f148"
      },
      "outputs": [
        {
          "output_type": "stream",
          "name": "stdout",
          "text": [
            "array_1 = [1 2 3 4 5 6 7 8 9]\n"
          ]
        }
      ],
      "source": [
        "import numpy as np \n",
        "array_1 = np.array([1, 2, 3, 4, 5, 6, 7, 8, 9])\n",
        "print(f\"array_1 = {array_1}\")"
      ]
    },
    {
      "cell_type": "code",
      "source": [
        "#version control\n",
        "print(np.__version__)"
      ],
      "metadata": {
        "colab": {
          "base_uri": "https://localhost:8080/"
        },
        "id": "iPrdm4XhVm64",
        "outputId": "bd41418a-8650-4c5b-a110-d3fef5cceec9"
      },
      "execution_count": null,
      "outputs": [
        {
          "output_type": "stream",
          "name": "stdout",
          "text": [
            "1.21.5\n"
          ]
        }
      ]
    },
    {
      "cell_type": "markdown",
      "source": [
        "Massivlər haqqında belə bir fikri demək olar ki, əlimizdə N - ölçülü matris (və ya massiv) varsa, bizim həmin N - ölçülü matris içərisində yerləşəcək matrislər (və ya massivlər) in ölçüsü (N-1) - ə bərabər və ya ondan kiçik olmalıdır.\n",
        "Misal üçün iki, üç, və ya dörd ölçülü matrisləri götürək .<br>\n",
        "&emsp;İçərisində müxtəif sayda birölçülü (1D) matris saxlayan matrislərə ikiölçülü (2D) matrislər deyilir.<br>\n",
        "&emsp;İçərisində müxtəif sayda ikiölçülü 2D matris saxlayan matrislərə üçölçülü (3D) matrislər deyilir.<br>\n",
        "&emsp;İçərisində müxtəif sayda üçölçülü (3D) matris saxlayan matrislərə dördölçülü (4D) matrislər deyilir.<br>\n"
      ],
      "metadata": {
        "id": "GgUMHowKXZCN"
      }
    },
    {
      "cell_type": "markdown",
      "source": [
        "Arrayın yəni matrisin Dimensional ölçüsünün tapılması ***np.dim*** ilə həyata keçirilir."
      ],
      "metadata": {
        "id": "a6S34tX5Qzhi"
      }
    },
    {
      "cell_type": "markdown",
      "source": [
        "Sıfır ölçülü (0D - zero Dimension) matris:"
      ],
      "metadata": {
        "id": "ktTsFqZDAlEo"
      }
    },
    {
      "cell_type": "code",
      "source": [
        "import numpy as np\n",
        "array_2 = np.array(62)\n",
        "print(f\"Matrisin Dimensional ölçüsü: {array_2.ndim}\")"
      ],
      "metadata": {
        "colab": {
          "base_uri": "https://localhost:8080/"
        },
        "id": "Hs3ZNdAxBKTa",
        "outputId": "21e372b6-ab80-492f-9d01-cee9b09a4e1a"
      },
      "execution_count": null,
      "outputs": [
        {
          "output_type": "stream",
          "name": "stdout",
          "text": [
            "Matrisin Dimensional ölçüsü: 0\n"
          ]
        }
      ]
    },
    {
      "cell_type": "markdown",
      "source": [
        "Bir ölçülü ( 1D - one Dimension) matris:"
      ],
      "metadata": {
        "id": "s2YdhtS2AkpU"
      }
    },
    {
      "cell_type": "code",
      "source": [
        "import numpy as np\n",
        "array_3 = np.array([5, 10, 35, 20, 19])\n",
        "print(f\"Matrisin Dimensional ölçüsü: {array_3.ndim}\")"
      ],
      "metadata": {
        "colab": {
          "base_uri": "https://localhost:8080/"
        },
        "id": "50KYtsw0BLa8",
        "outputId": "34926e91-12ba-47c2-fa10-c5161b2d5efa"
      },
      "execution_count": null,
      "outputs": [
        {
          "output_type": "stream",
          "name": "stdout",
          "text": [
            "Matrisin Dimensional ölçüsü: 1\n"
          ]
        }
      ]
    },
    {
      "cell_type": "markdown",
      "source": [
        "İki ölçülü ( 2D - two Dimension) matris:"
      ],
      "metadata": {
        "id": "bdJpDM1oDRtM"
      }
    },
    {
      "cell_type": "code",
      "source": [
        "import numpy as np\n",
        "array_4 = np.array([[47, 32, 28, 10, 26], [44, 30, 38, 46, 17], [35, 37, 4, 41, 16]])\n",
        "print(f\"Matrisin Dimensional ölçüsü: {array_4.ndim}\")"
      ],
      "metadata": {
        "colab": {
          "base_uri": "https://localhost:8080/"
        },
        "id": "jOlOg2MIDGXw",
        "outputId": "7a30ce2c-bf47-457e-b741-7976ce140e8b"
      },
      "execution_count": null,
      "outputs": [
        {
          "output_type": "stream",
          "name": "stdout",
          "text": [
            "Matrisin Dimensional ölçüsü: 2\n"
          ]
        }
      ]
    },
    {
      "cell_type": "markdown",
      "source": [
        "Üç ölçülü (3D - three Dimension ) matris :"
      ],
      "metadata": {
        "id": "Oen2emGQELKn"
      }
    },
    {
      "cell_type": "code",
      "source": [
        "import numpy as np\n",
        "array_5 = np.array([[[22, 33, 20, 37, 47], \n",
        "                     [35, 30, 26, 3, 21], \n",
        "                     [16, 28, 34, 50, 39], \n",
        "                     [46, 15, 18, 42, 12]],\n",
        "                    [[15, 36, 9, 41, 44], \n",
        "                     [9, 21, 45, 5, 17], \n",
        "                     [46, 10, 45, 34, 39], \n",
        "                     [12, 22, 47, 4, 24]]])\n",
        "print(f\"Matrisin Dimensional ölçüsü: {array_5.ndim}\")"
      ],
      "metadata": {
        "colab": {
          "base_uri": "https://localhost:8080/"
        },
        "id": "xUzbkA3jDNzp",
        "outputId": "01e2d88a-0f41-4e3e-eb1b-4f42b6d7a759"
      },
      "execution_count": null,
      "outputs": [
        {
          "output_type": "stream",
          "name": "stdout",
          "text": [
            "Matrisin Dimensional ölçüsü: 3\n"
          ]
        }
      ]
    },
    {
      "cell_type": "markdown",
      "source": [
        "Dörd ölçülü (4D - four Dimension ) matris :"
      ],
      "metadata": {
        "id": "85Wk37TPGJyk"
      }
    },
    {
      "cell_type": "code",
      "source": [
        "from numpy.core.fromnumeric import ndim\n",
        "import numpy as np\n",
        "array_6 = np.arange(1001,1521)\n",
        "array_6 = array_6.reshape(2,2,10,13)\n",
        "print(f\"Matrisimiz:\\n\\n{array_6}\")\n",
        "#reshape sonra izah ediləcək\n",
        "print(f\"\\n\\nMatrisin Dimensional ölçüsü: {array_6.ndim}\")"
      ],
      "metadata": {
        "colab": {
          "base_uri": "https://localhost:8080/"
        },
        "id": "o0G4Pr6JXAzK",
        "outputId": "27a79d5f-3ffa-4d1b-f49b-b77607f38281"
      },
      "execution_count": null,
      "outputs": [
        {
          "output_type": "stream",
          "name": "stdout",
          "text": [
            "Matrisimiz:\n",
            "\n",
            "[[[[1001 1002 1003 1004 1005 1006 1007 1008 1009 1010 1011 1012 1013]\n",
            "   [1014 1015 1016 1017 1018 1019 1020 1021 1022 1023 1024 1025 1026]\n",
            "   [1027 1028 1029 1030 1031 1032 1033 1034 1035 1036 1037 1038 1039]\n",
            "   [1040 1041 1042 1043 1044 1045 1046 1047 1048 1049 1050 1051 1052]\n",
            "   [1053 1054 1055 1056 1057 1058 1059 1060 1061 1062 1063 1064 1065]\n",
            "   [1066 1067 1068 1069 1070 1071 1072 1073 1074 1075 1076 1077 1078]\n",
            "   [1079 1080 1081 1082 1083 1084 1085 1086 1087 1088 1089 1090 1091]\n",
            "   [1092 1093 1094 1095 1096 1097 1098 1099 1100 1101 1102 1103 1104]\n",
            "   [1105 1106 1107 1108 1109 1110 1111 1112 1113 1114 1115 1116 1117]\n",
            "   [1118 1119 1120 1121 1122 1123 1124 1125 1126 1127 1128 1129 1130]]\n",
            "\n",
            "  [[1131 1132 1133 1134 1135 1136 1137 1138 1139 1140 1141 1142 1143]\n",
            "   [1144 1145 1146 1147 1148 1149 1150 1151 1152 1153 1154 1155 1156]\n",
            "   [1157 1158 1159 1160 1161 1162 1163 1164 1165 1166 1167 1168 1169]\n",
            "   [1170 1171 1172 1173 1174 1175 1176 1177 1178 1179 1180 1181 1182]\n",
            "   [1183 1184 1185 1186 1187 1188 1189 1190 1191 1192 1193 1194 1195]\n",
            "   [1196 1197 1198 1199 1200 1201 1202 1203 1204 1205 1206 1207 1208]\n",
            "   [1209 1210 1211 1212 1213 1214 1215 1216 1217 1218 1219 1220 1221]\n",
            "   [1222 1223 1224 1225 1226 1227 1228 1229 1230 1231 1232 1233 1234]\n",
            "   [1235 1236 1237 1238 1239 1240 1241 1242 1243 1244 1245 1246 1247]\n",
            "   [1248 1249 1250 1251 1252 1253 1254 1255 1256 1257 1258 1259 1260]]]\n",
            "\n",
            "\n",
            " [[[1261 1262 1263 1264 1265 1266 1267 1268 1269 1270 1271 1272 1273]\n",
            "   [1274 1275 1276 1277 1278 1279 1280 1281 1282 1283 1284 1285 1286]\n",
            "   [1287 1288 1289 1290 1291 1292 1293 1294 1295 1296 1297 1298 1299]\n",
            "   [1300 1301 1302 1303 1304 1305 1306 1307 1308 1309 1310 1311 1312]\n",
            "   [1313 1314 1315 1316 1317 1318 1319 1320 1321 1322 1323 1324 1325]\n",
            "   [1326 1327 1328 1329 1330 1331 1332 1333 1334 1335 1336 1337 1338]\n",
            "   [1339 1340 1341 1342 1343 1344 1345 1346 1347 1348 1349 1350 1351]\n",
            "   [1352 1353 1354 1355 1356 1357 1358 1359 1360 1361 1362 1363 1364]\n",
            "   [1365 1366 1367 1368 1369 1370 1371 1372 1373 1374 1375 1376 1377]\n",
            "   [1378 1379 1380 1381 1382 1383 1384 1385 1386 1387 1388 1389 1390]]\n",
            "\n",
            "  [[1391 1392 1393 1394 1395 1396 1397 1398 1399 1400 1401 1402 1403]\n",
            "   [1404 1405 1406 1407 1408 1409 1410 1411 1412 1413 1414 1415 1416]\n",
            "   [1417 1418 1419 1420 1421 1422 1423 1424 1425 1426 1427 1428 1429]\n",
            "   [1430 1431 1432 1433 1434 1435 1436 1437 1438 1439 1440 1441 1442]\n",
            "   [1443 1444 1445 1446 1447 1448 1449 1450 1451 1452 1453 1454 1455]\n",
            "   [1456 1457 1458 1459 1460 1461 1462 1463 1464 1465 1466 1467 1468]\n",
            "   [1469 1470 1471 1472 1473 1474 1475 1476 1477 1478 1479 1480 1481]\n",
            "   [1482 1483 1484 1485 1486 1487 1488 1489 1490 1491 1492 1493 1494]\n",
            "   [1495 1496 1497 1498 1499 1500 1501 1502 1503 1504 1505 1506 1507]\n",
            "   [1508 1509 1510 1511 1512 1513 1514 1515 1516 1517 1518 1519 1520]]]]\n",
            "\n",
            "\n",
            "Matrisin Dimensional ölçüsü: 4\n"
          ]
        }
      ]
    },
    {
      "cell_type": "markdown",
      "source": [
        "Verilən ölçüdə massivin yaradılması **np.ndmin** ilə həyata keçirilir:"
      ],
      "metadata": {
        "id": "x868kZHoS3A7"
      }
    },
    {
      "cell_type": "code",
      "source": [
        "import numpy as np\n",
        "array_7 = np.array([[43, 8, 27, 45, 26], [6, 23, 39, 41, 35], [32, 27, 2, 5, 36]],ndmin = 5)\n",
        "print(f\"\\n\\nMatrisin Dimensional ölçüsü: {array_7.ndim}\\n\")\n",
        "print(array_7)"
      ],
      "metadata": {
        "colab": {
          "base_uri": "https://localhost:8080/"
        },
        "id": "QpgIqTw4CaS8",
        "outputId": "7987e531-dfa1-41c8-f104-6bc749d2881c"
      },
      "execution_count": null,
      "outputs": [
        {
          "output_type": "stream",
          "name": "stdout",
          "text": [
            "\n",
            "\n",
            "Matrisin Dimensional ölçüsü: 5\n",
            "\n",
            "[[[[[43  8 27 45 26]\n",
            "    [ 6 23 39 41 35]\n",
            "    [32 27  2  5 36]]]]]\n"
          ]
        }
      ]
    },
    {
      "cell_type": "markdown",
      "source": [
        "Müxtəlif ölçüdə olan matrislərin izahı:\n"
      ],
      "metadata": {
        "id": "xONekKmXUUEN"
      }
    },
    {
      "cell_type": "markdown",
      "source": [
        "Proqramlamada bir dəyişən sadəcə bir dəyər tuta bilər, əyər bu dəyişən  matrisdirsə (array) bir və ya birdən çox  dəyər ala bilmə xüsusiyyəti vardır.<br> \n",
        "Misal üçün  <br>\n",
        "1-D matris bir vektor, <br>\n",
        "2-D matris bir düzbucaqlı <br> \n",
        "3-D matris bir kub kimidir. <br> \n",
        "4-D matrisi kubların vektoru olaraq ifadə edə bilərik. Eyni formada <br>\n",
        "5-D matrisi kubların düzbucaqlısı <br>\n",
        "6-D matrisi isə kubların kubu olaraq düşünə bilərik. Aşağıdakı şəkillərə baxaq:"
      ],
      "metadata": {
        "id": "ejWNRaPwV_6c"
      }
    },
    {
      "cell_type": "markdown",
      "source": [
        "![image.png](data:image/png;base64,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)"
      ],
      "metadata": {
        "id": "rubAwb82V-rE"
      }
    },
    {
      "cell_type": "markdown",
      "source": [
        "Numpy matrisi elementlərinə onların indeksi vasitəsilə keçid edə bilirik;<br>\n",
        "Belə ki, aşağıdakı nümunədə **array_8** 2D - ölçülü matrisinin daxilindəki<br> 2 ci sətir 4-cü sütun elementinə (1,3) indexi vasitəsi ilə keçid edə bilirik;<br>\n",
        "Nümunədə iki üsulla çağırma göstərilmişdir:\n"
      ],
      "metadata": {
        "id": "usaqCbCMY8z9"
      }
    },
    {
      "cell_type": "code",
      "source": [
        "import numpy as np\n",
        "array_8 = np.array([[22, 18, 7, 41, 4], \n",
        "                    [23, 31, 24, 50, 47], \n",
        "                    [20, 49, 28, 6, 26]])\n",
        "print(f\"Çağırma üsulu 1: {array_8[1,3]}\\n\")\n",
        "print(f\"Çağırma üsulu 2: {array_8[1][3]}\")"
      ],
      "metadata": {
        "colab": {
          "base_uri": "https://localhost:8080/"
        },
        "id": "h91F3LT7TdRb",
        "outputId": "84062e96-f5bf-4a28-b774-4b60f2738697"
      },
      "execution_count": null,
      "outputs": [
        {
          "output_type": "stream",
          "name": "stdout",
          "text": [
            "Çağırma üsulu 1: 50\n",
            "\n",
            "Çağırma üsulu 2: 50\n"
          ]
        }
      ]
    },
    {
      "cell_type": "markdown",
      "source": [
        "Adi Toplama əməlinə baxaq:"
      ],
      "metadata": {
        "id": "zSXZccPibVKw"
      }
    },
    {
      "cell_type": "code",
      "source": [
        "print(array_8[1,3]+array_8[2,3])"
      ],
      "metadata": {
        "colab": {
          "base_uri": "https://localhost:8080/"
        },
        "id": "jVPmkPw8TdH_",
        "outputId": "2349a7c7-8868-4529-cd05-266bcda0ae10"
      },
      "execution_count": null,
      "outputs": [
        {
          "output_type": "stream",
          "name": "stdout",
          "text": [
            "56\n"
          ]
        }
      ]
    },
    {
      "cell_type": "markdown",
      "source": [
        "Numpy matrislərində elementləri ifadə edərkən istifadə olunan indekslənmə metodunda son iki ədəd sətir və sütunu ifadə edər.<br>\n",
        "Misal olaraq, <br>\n",
        "**array_6** - nın quruluşu olan (2,2,10,13) - nı qarşıya qoyub nəzərdən keçirsək,<br>\n",
        "matrisin 4 ölçülü olduğunu ( **(2,2,10,13)** - mötərizəsi daxilindəki elementlərin sayı), <br>\n",
        "daxilində 2 ədəd üçölçülü matris saxladığını (mötərizə daxilindəki birinci ədəd)<br> \n",
        "ardınca həmin üçölçülü matrislərin də öz daxilində 2 ədəd (mötərizə daxilindəki ikinci ədəd) ikiölçülü matris saxladığını müşahidə edərik,<br>\n",
        "burada 10 rəqəmi sətirlərin sayını 13 isə sütunların sayını ifadə edər.\n",
        "Onu da xatırlatmaq lazımdır ki, matris indeksləri ilə iş zamanı həmişə axırıncı ədəd sütunların sayını , axırdan ikinci ədəd isə sətirlərin sayını ifadfə edər."
      ],
      "metadata": {
        "id": "a7vcplgVcIfN"
      }
    },
    {
      "cell_type": "markdown",
      "source": [
        "Standart python listlərində olduğu kimi neqativ yəni mənfi indekslərdən istifadə edilməsi burada da mümkündür."
      ],
      "metadata": {
        "id": "nBXtFJTek4Gm"
      }
    },
    {
      "cell_type": "code",
      "source": [
        "import numpy as np\n",
        "array_9 = np.array([\n",
        "                    [[22, 18, 7, 41, 4], \n",
        "                     [23, 31, 24, 50, 47], \n",
        "                     [20, 49, 28, 6, 26]],\n",
        "                    [[22, 18, 7, 41, 4], \n",
        "                     [23, 31, 24, 50, 47], \n",
        "                     [20, 49, 28, 6, 26]]\n",
        "                    ])\n",
        "array_9[1, 2, -2]"
      ],
      "metadata": {
        "colab": {
          "base_uri": "https://localhost:8080/"
        },
        "id": "q8SdpppwTc4b",
        "outputId": "9f6c897a-0d8e-495f-928b-5c303dd65eef"
      },
      "execution_count": null,
      "outputs": [
        {
          "output_type": "execute_result",
          "data": {
            "text/plain": [
              "6"
            ]
          },
          "metadata": {},
          "execution_count": 1
        }
      ]
    },
    {
      "cell_type": "markdown",
      "source": [
        "<b><h4>Slicing</h4></b><br>\n",
        "Listlərdə olduğu kimi burada da slicing yəni massivi parçalama və ya bölmə əməli həyata keçirmək mümkündür.<br>\n",
        "<b><h5>Birölçülü matrsilərdə baxaq:</h5></b><br>\n",
        "\n"
      ],
      "metadata": {
        "id": "GAT-A4vc4S60"
      }
    },
    {
      "cell_type": "code",
      "source": [
        "\n",
        "import numpy as np\n",
        "array_1D_slicing = np.array([5, 15, 40, 49, 22, 26, 14, 31, 48, 36])\n",
        "print(f\"1D array: {array_1D_slicing}\")"
      ],
      "metadata": {
        "colab": {
          "base_uri": "https://localhost:8080/"
        },
        "id": "US2wFKhPTclB",
        "outputId": "606c4b07-8ca4-4459-9188-46ad5868c534"
      },
      "execution_count": null,
      "outputs": [
        {
          "output_type": "stream",
          "name": "stdout",
          "text": [
            "1D array: [ 5 15 40 49 22 26 14 31 48 36]\n"
          ]
        }
      ]
    },
    {
      "cell_type": "code",
      "source": [
        "print(f\"array_1D_slicing[2:7] = {array_1D_slicing[2:7]}\")"
      ],
      "metadata": {
        "colab": {
          "base_uri": "https://localhost:8080/"
        },
        "id": "7FPsHzIvTcPf",
        "outputId": "c94d2d56-3ce8-471c-d841-8365935ce159"
      },
      "execution_count": null,
      "outputs": [
        {
          "output_type": "stream",
          "name": "stdout",
          "text": [
            "array_1D_slicing[2:7] = [40 49 22 26 14]\n"
          ]
        }
      ]
    },
    {
      "cell_type": "code",
      "source": [
        "print(f\"array_1D_slicing[3:] = {array_1D_slicing[3:]}\")"
      ],
      "metadata": {
        "colab": {
          "base_uri": "https://localhost:8080/"
        },
        "id": "F4cyARpP_K0b",
        "outputId": "362927ac-b900-4fe5-e3eb-09cfedddc456"
      },
      "execution_count": null,
      "outputs": [
        {
          "output_type": "stream",
          "name": "stdout",
          "text": [
            "array_1D_slicing[3:] = [49 22 26 14 31 48 36]\n"
          ]
        }
      ]
    },
    {
      "cell_type": "code",
      "source": [
        "print(f\"array_1D_slicing[:8] = {array_1D_slicing[:8]}\")"
      ],
      "metadata": {
        "colab": {
          "base_uri": "https://localhost:8080/"
        },
        "id": "4u7ngYP5_KjF",
        "outputId": "5242b83c-7cd7-4313-bfc6-6abf4b22f211"
      },
      "execution_count": null,
      "outputs": [
        {
          "output_type": "stream",
          "name": "stdout",
          "text": [
            "array_1D_slicing[:8] = [ 5 15 40 49 22 26 14 31]\n"
          ]
        }
      ]
    },
    {
      "cell_type": "code",
      "source": [
        "print(f\"array_1D_slicing[-6:-2] = {array_1D_slicing[-6:-2]}\")"
      ],
      "metadata": {
        "colab": {
          "base_uri": "https://localhost:8080/"
        },
        "id": "G7Nk98JD_KMR",
        "outputId": "86bd9118-da98-4778-c644-a3e57889c38f"
      },
      "execution_count": null,
      "outputs": [
        {
          "output_type": "stream",
          "name": "stdout",
          "text": [
            "array_1D_slicing[-6:-2] = [22 26 14 31]\n"
          ]
        }
      ]
    },
    {
      "cell_type": "code",
      "source": [
        "print(f\"array_1D_slicing[2:9:3] = {array_1D_slicing[2:9:3]}\")"
      ],
      "metadata": {
        "colab": {
          "base_uri": "https://localhost:8080/"
        },
        "id": "FD_0p8weDLEG",
        "outputId": "f4e44cbd-8908-4895-c4bf-6b91496127fa"
      },
      "execution_count": null,
      "outputs": [
        {
          "output_type": "stream",
          "name": "stdout",
          "text": [
            "array_1D_slicing[2:9:3] = [40 26 48]\n"
          ]
        }
      ]
    },
    {
      "cell_type": "code",
      "source": [
        "print(f\"array_1D_slicing[::4] = {array_1D_slicing[::4]}\")"
      ],
      "metadata": {
        "colab": {
          "base_uri": "https://localhost:8080/"
        },
        "id": "W-VCY4M4DKkI",
        "outputId": "23abb973-dcb5-485f-ff9b-9581c164a1c4"
      },
      "execution_count": null,
      "outputs": [
        {
          "output_type": "stream",
          "name": "stdout",
          "text": [
            "array_1D_slicing[::4] = [ 5 22 48]\n"
          ]
        }
      ]
    },
    {
      "cell_type": "markdown",
      "source": [
        "<b><h5>İkiölçülü matrislərdə baxaq:</h5></b>"
      ],
      "metadata": {
        "id": "f8CFVricEaDZ"
      }
    },
    {
      "cell_type": "code",
      "source": [
        "import numpy as np\n",
        "array_2D_slicing = np.array([[12, 7, 20, 45, 45, 5, 15, 41, 42, 14], \n",
        "                             [41, 45, 4, 2, 43, 21, 47, 50, 44, 37], \n",
        "                             [26, 45, 47, 13, 46, 47, 32, 30, 21, 27]])\n",
        "print(f\"2D array: \\n\\n{array_2D_slicing}\")"
      ],
      "metadata": {
        "colab": {
          "base_uri": "https://localhost:8080/"
        },
        "id": "0YC9tIfiDKYO",
        "outputId": "3502bc97-59fa-4b23-c49d-668681bc9af2"
      },
      "execution_count": null,
      "outputs": [
        {
          "output_type": "stream",
          "name": "stdout",
          "text": [
            "2D array: \n",
            "\n",
            "[[12  7 20 45 45  5 15 41 42 14]\n",
            " [41 45  4  2 43 21 47 50 44 37]\n",
            " [26 45 47 13 46 47 32 30 21 27]]\n"
          ]
        }
      ]
    },
    {
      "cell_type": "code",
      "source": [
        "print(f\"array_2D_slicing[1, 2:7] = {array_2D_slicing[1, 2:7]}\")"
      ],
      "metadata": {
        "colab": {
          "base_uri": "https://localhost:8080/"
        },
        "id": "-SPt4vmhDKKW",
        "outputId": "35bd24fe-925d-416e-f696-b789c49b09f2"
      },
      "execution_count": null,
      "outputs": [
        {
          "output_type": "stream",
          "name": "stdout",
          "text": [
            "array_2D_slicing[1, 2:7] = [ 4  2 43 21 47]\n"
          ]
        }
      ]
    },
    {
      "cell_type": "code",
      "source": [
        "print(f\"array_2D_slicing[2, 3:] = {array_2D_slicing[2, 3:]}\")"
      ],
      "metadata": {
        "colab": {
          "base_uri": "https://localhost:8080/"
        },
        "id": "s0TnnQhUGVrK",
        "outputId": "66d92df7-6e27-4ce3-a271-a61702cb825f"
      },
      "execution_count": null,
      "outputs": [
        {
          "output_type": "stream",
          "name": "stdout",
          "text": [
            "array_2D_slicing[2, 3:] = [13 46 47 32 30 21 27]\n"
          ]
        }
      ]
    },
    {
      "cell_type": "code",
      "source": [
        "print(f\"array_2D_slicing[0:2, 2:7] = \\n\\n{array_2D_slicing[0:2, 2:7]}\")"
      ],
      "metadata": {
        "colab": {
          "base_uri": "https://localhost:8080/"
        },
        "id": "3B7aKgqiGVFm",
        "outputId": "2d5ba507-d5fd-4e6b-f304-9589b4e1f0c5"
      },
      "execution_count": null,
      "outputs": [
        {
          "output_type": "stream",
          "name": "stdout",
          "text": [
            "array_2D_slicing[0:2, 2:7] = \n",
            "\n",
            "[[20 45 45  5 15]\n",
            " [ 4  2 43 21 47]]\n"
          ]
        }
      ]
    }
  ]
}